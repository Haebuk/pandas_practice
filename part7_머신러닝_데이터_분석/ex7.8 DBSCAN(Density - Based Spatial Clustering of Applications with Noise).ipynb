{
 "cells": [
  {
   "cell_type": "markdown",
   "metadata": {},
   "source": [
    "# 예제 7-8 DBSCAN 군집 분석 "
   ]
  },
  {
   "cell_type": "markdown",
   "metadata": {},
   "source": [
    "### 기본 라이브러리 불러오기"
   ]
  },
  {
   "cell_type": "code",
   "execution_count": 1,
   "metadata": {
    "ExecuteTime": {
     "end_time": "2020-12-27T10:03:30.652281Z",
     "start_time": "2020-12-27T10:03:29.865566Z"
    }
   },
   "outputs": [],
   "source": [
    "import pandas as pd\n",
    "import folium"
   ]
  },
  {
   "cell_type": "markdown",
   "metadata": {},
   "source": [
    "## Step 1 데이터 준비/기본 설정 "
   ]
  },
  {
   "cell_type": "markdown",
   "metadata": {},
   "source": [
    "### 서울시내 중학교 진학률 데이터셋 "
   ]
  },
  {
   "cell_type": "code",
   "execution_count": 2,
   "metadata": {
    "ExecuteTime": {
     "end_time": "2020-12-27T10:03:54.490963Z",
     "start_time": "2020-12-27T10:03:54.476950Z"
    }
   },
   "outputs": [],
   "source": [
    "file_path = './2016_middle_shcool_graduates_report.xlsx'"
   ]
  },
  {
   "cell_type": "code",
   "execution_count": 10,
   "metadata": {
    "ExecuteTime": {
     "end_time": "2020-12-27T10:06:17.457477Z",
     "start_time": "2020-12-27T10:06:17.366395Z"
    }
   },
   "outputs": [],
   "source": [
    "df = pd.read_excel(file_path, header=0)\n",
    "df.drop(['Unnamed: 0'],axis=1,inplace=True)"
   ]
  },
  {
   "cell_type": "markdown",
   "metadata": {},
   "source": [
    "### 열 이름 배열 출력"
   ]
  },
  {
   "cell_type": "code",
   "execution_count": 11,
   "metadata": {
    "ExecuteTime": {
     "end_time": "2020-12-27T10:06:19.982772Z",
     "start_time": "2020-12-27T10:06:19.974765Z"
    }
   },
   "outputs": [
    {
     "name": "stdout",
     "output_type": "stream",
     "text": [
      "['지역' '학교명' '코드' '유형' '주야' '남학생수' '여학생수' '일반고' '특성화고' '과학고' '외고_국제고'\n",
      " '예고_체고' '마이스터고' '자사고' '자공고' '기타진학' '취업' '미상' '위도' '경도']\n"
     ]
    }
   ],
   "source": [
    "print(df.columns.values)"
   ]
  },
  {
   "cell_type": "markdown",
   "metadata": {},
   "source": [
    "## Step 2 데이터 탐색"
   ]
  },
  {
   "cell_type": "markdown",
   "metadata": {},
   "source": [
    "### 데이터 살펴보기 "
   ]
  },
  {
   "cell_type": "code",
   "execution_count": 12,
   "metadata": {
    "ExecuteTime": {
     "end_time": "2020-12-27T10:06:21.324992Z",
     "start_time": "2020-12-27T10:06:21.304974Z"
    },
    "scrolled": true
   },
   "outputs": [
    {
     "data": {
      "text/html": [
       "<div>\n",
       "<style scoped>\n",
       "    .dataframe tbody tr th:only-of-type {\n",
       "        vertical-align: middle;\n",
       "    }\n",
       "\n",
       "    .dataframe tbody tr th {\n",
       "        vertical-align: top;\n",
       "    }\n",
       "\n",
       "    .dataframe thead th {\n",
       "        text-align: right;\n",
       "    }\n",
       "</style>\n",
       "<table border=\"1\" class=\"dataframe\">\n",
       "  <thead>\n",
       "    <tr style=\"text-align: right;\">\n",
       "      <th></th>\n",
       "      <th>지역</th>\n",
       "      <th>학교명</th>\n",
       "      <th>코드</th>\n",
       "      <th>유형</th>\n",
       "      <th>주야</th>\n",
       "      <th>남학생수</th>\n",
       "      <th>여학생수</th>\n",
       "      <th>일반고</th>\n",
       "      <th>특성화고</th>\n",
       "      <th>과학고</th>\n",
       "      <th>외고_국제고</th>\n",
       "      <th>예고_체고</th>\n",
       "      <th>마이스터고</th>\n",
       "      <th>자사고</th>\n",
       "      <th>자공고</th>\n",
       "      <th>기타진학</th>\n",
       "      <th>취업</th>\n",
       "      <th>미상</th>\n",
       "      <th>위도</th>\n",
       "      <th>경도</th>\n",
       "    </tr>\n",
       "  </thead>\n",
       "  <tbody>\n",
       "    <tr>\n",
       "      <th>0</th>\n",
       "      <td>성북구</td>\n",
       "      <td>서울대학교사범대학부설중학교</td>\n",
       "      <td>3</td>\n",
       "      <td>국립</td>\n",
       "      <td>주간</td>\n",
       "      <td>277</td>\n",
       "      <td>0</td>\n",
       "      <td>0.585</td>\n",
       "      <td>0.148</td>\n",
       "      <td>0.018</td>\n",
       "      <td>0.007</td>\n",
       "      <td>0.000</td>\n",
       "      <td>0.011</td>\n",
       "      <td>0.227</td>\n",
       "      <td>0.000</td>\n",
       "      <td>0.004</td>\n",
       "      <td>0</td>\n",
       "      <td>0.000</td>\n",
       "      <td>37.594942</td>\n",
       "      <td>127.038909</td>\n",
       "    </tr>\n",
       "    <tr>\n",
       "      <th>1</th>\n",
       "      <td>종로구</td>\n",
       "      <td>서울대학교사범대학부설여자중학교</td>\n",
       "      <td>3</td>\n",
       "      <td>국립</td>\n",
       "      <td>주간</td>\n",
       "      <td>0</td>\n",
       "      <td>256</td>\n",
       "      <td>0.680</td>\n",
       "      <td>0.199</td>\n",
       "      <td>0.000</td>\n",
       "      <td>0.035</td>\n",
       "      <td>0.008</td>\n",
       "      <td>0.000</td>\n",
       "      <td>0.043</td>\n",
       "      <td>0.004</td>\n",
       "      <td>0.031</td>\n",
       "      <td>0</td>\n",
       "      <td>0.000</td>\n",
       "      <td>37.577473</td>\n",
       "      <td>127.003857</td>\n",
       "    </tr>\n",
       "    <tr>\n",
       "      <th>2</th>\n",
       "      <td>강남구</td>\n",
       "      <td>개원중학교</td>\n",
       "      <td>3</td>\n",
       "      <td>공립</td>\n",
       "      <td>주간</td>\n",
       "      <td>170</td>\n",
       "      <td>152</td>\n",
       "      <td>0.817</td>\n",
       "      <td>0.047</td>\n",
       "      <td>0.009</td>\n",
       "      <td>0.012</td>\n",
       "      <td>0.003</td>\n",
       "      <td>0.006</td>\n",
       "      <td>0.090</td>\n",
       "      <td>0.003</td>\n",
       "      <td>0.009</td>\n",
       "      <td>0</td>\n",
       "      <td>0.003</td>\n",
       "      <td>37.491637</td>\n",
       "      <td>127.071744</td>\n",
       "    </tr>\n",
       "    <tr>\n",
       "      <th>3</th>\n",
       "      <td>강남구</td>\n",
       "      <td>개포중학교</td>\n",
       "      <td>3</td>\n",
       "      <td>공립</td>\n",
       "      <td>주간</td>\n",
       "      <td>83</td>\n",
       "      <td>72</td>\n",
       "      <td>0.755</td>\n",
       "      <td>0.097</td>\n",
       "      <td>0.013</td>\n",
       "      <td>0.013</td>\n",
       "      <td>0.019</td>\n",
       "      <td>0.019</td>\n",
       "      <td>0.065</td>\n",
       "      <td>0.000</td>\n",
       "      <td>0.019</td>\n",
       "      <td>0</td>\n",
       "      <td>0.000</td>\n",
       "      <td>37.480439</td>\n",
       "      <td>127.062201</td>\n",
       "    </tr>\n",
       "    <tr>\n",
       "      <th>4</th>\n",
       "      <td>서초구</td>\n",
       "      <td>경원중학교</td>\n",
       "      <td>3</td>\n",
       "      <td>공립</td>\n",
       "      <td>주간</td>\n",
       "      <td>199</td>\n",
       "      <td>212</td>\n",
       "      <td>0.669</td>\n",
       "      <td>0.017</td>\n",
       "      <td>0.007</td>\n",
       "      <td>0.010</td>\n",
       "      <td>0.005</td>\n",
       "      <td>0.000</td>\n",
       "      <td>0.282</td>\n",
       "      <td>0.000</td>\n",
       "      <td>0.010</td>\n",
       "      <td>0</td>\n",
       "      <td>0.000</td>\n",
       "      <td>37.510750</td>\n",
       "      <td>127.008900</td>\n",
       "    </tr>\n",
       "  </tbody>\n",
       "</table>\n",
       "</div>"
      ],
      "text/plain": [
       "    지역               학교명  코드  유형  주야  남학생수  여학생수    일반고   특성화고    과학고  외고_국제고  \\\n",
       "0  성북구    서울대학교사범대학부설중학교   3  국립  주간   277     0  0.585  0.148  0.018   0.007   \n",
       "1  종로구  서울대학교사범대학부설여자중학교   3  국립  주간     0   256  0.680  0.199  0.000   0.035   \n",
       "2  강남구             개원중학교   3  공립  주간   170   152  0.817  0.047  0.009   0.012   \n",
       "3  강남구             개포중학교   3  공립  주간    83    72  0.755  0.097  0.013   0.013   \n",
       "4  서초구             경원중학교   3  공립  주간   199   212  0.669  0.017  0.007   0.010   \n",
       "\n",
       "   예고_체고  마이스터고    자사고    자공고   기타진학  취업     미상         위도          경도  \n",
       "0  0.000  0.011  0.227  0.000  0.004   0  0.000  37.594942  127.038909  \n",
       "1  0.008  0.000  0.043  0.004  0.031   0  0.000  37.577473  127.003857  \n",
       "2  0.003  0.006  0.090  0.003  0.009   0  0.003  37.491637  127.071744  \n",
       "3  0.019  0.019  0.065  0.000  0.019   0  0.000  37.480439  127.062201  \n",
       "4  0.005  0.000  0.282  0.000  0.010   0  0.000  37.510750  127.008900  "
      ]
     },
     "execution_count": 12,
     "metadata": {},
     "output_type": "execute_result"
    }
   ],
   "source": [
    "df.head()"
   ]
  },
  {
   "cell_type": "markdown",
   "metadata": {},
   "source": [
    "### 데이터 자료형 확인"
   ]
  },
  {
   "cell_type": "code",
   "execution_count": 13,
   "metadata": {
    "ExecuteTime": {
     "end_time": "2020-12-27T10:06:29.343285Z",
     "start_time": "2020-12-27T10:06:29.335277Z"
    }
   },
   "outputs": [
    {
     "name": "stdout",
     "output_type": "stream",
     "text": [
      "<class 'pandas.core.frame.DataFrame'>\n",
      "RangeIndex: 415 entries, 0 to 414\n",
      "Data columns (total 20 columns):\n",
      " #   Column  Non-Null Count  Dtype  \n",
      "---  ------  --------------  -----  \n",
      " 0   지역      415 non-null    object \n",
      " 1   학교명     415 non-null    object \n",
      " 2   코드      415 non-null    int64  \n",
      " 3   유형      415 non-null    object \n",
      " 4   주야      415 non-null    object \n",
      " 5   남학생수    415 non-null    int64  \n",
      " 6   여학생수    415 non-null    int64  \n",
      " 7   일반고     415 non-null    float64\n",
      " 8   특성화고    415 non-null    float64\n",
      " 9   과학고     415 non-null    float64\n",
      " 10  외고_국제고  415 non-null    float64\n",
      " 11  예고_체고   415 non-null    float64\n",
      " 12  마이스터고   415 non-null    float64\n",
      " 13  자사고     415 non-null    float64\n",
      " 14  자공고     415 non-null    float64\n",
      " 15  기타진학    415 non-null    float64\n",
      " 16  취업      415 non-null    int64  \n",
      " 17  미상      415 non-null    float64\n",
      " 18  위도      415 non-null    float64\n",
      " 19  경도      415 non-null    float64\n",
      "dtypes: float64(12), int64(4), object(4)\n",
      "memory usage: 58.4+ KB\n"
     ]
    }
   ],
   "source": [
    "df.info()"
   ]
  },
  {
   "cell_type": "markdown",
   "metadata": {},
   "source": [
    "### 지도에 위치 표시"
   ]
  },
  {
   "cell_type": "code",
   "execution_count": 14,
   "metadata": {
    "ExecuteTime": {
     "end_time": "2020-12-27T10:07:21.380606Z",
     "start_time": "2020-12-27T10:07:21.364592Z"
    }
   },
   "outputs": [],
   "source": [
    "mschool_map = folium.Map(location=[37.55, 126.98], tiles='Stamen Terrain',\n",
    "                        zoom_start=12)"
   ]
  },
  {
   "cell_type": "markdown",
   "metadata": {},
   "source": [
    "### 중학교 위치 정보를 CircleMarker로 표시"
   ]
  },
  {
   "cell_type": "code",
   "execution_count": 15,
   "metadata": {
    "ExecuteTime": {
     "end_time": "2020-12-27T10:08:53.357286Z",
     "start_time": "2020-12-27T10:08:53.324256Z"
    }
   },
   "outputs": [],
   "source": [
    "for name, lat, lng in zip(df.학교명, df.위도, df.경도):\n",
    "    folium.CircleMarker([lat, lng],\n",
    "                       radius=5,\n",
    "                       color='brown',\n",
    "                       fill=True,\n",
    "                       fill_color='coral',\n",
    "                       fill_opacity=0.7,\n",
    "                       popup=name).add_to(mschool_map)"
   ]
  },
  {
   "cell_type": "markdown",
   "metadata": {},
   "source": [
    "### 지도를 html 파일로 저장하기 "
   ]
  },
  {
   "cell_type": "code",
   "execution_count": 16,
   "metadata": {
    "ExecuteTime": {
     "end_time": "2020-12-27T10:09:19.763301Z",
     "start_time": "2020-12-27T10:09:19.497059Z"
    }
   },
   "outputs": [],
   "source": [
    "mschool_map.save('./seoul_mschool_location.html')"
   ]
  },
  {
   "cell_type": "markdown",
   "metadata": {},
   "source": [
    "## Step 3 데이터 전처리 "
   ]
  },
  {
   "cell_type": "markdown",
   "metadata": {},
   "source": [
    "### 원핫인코딩(더미 변수)"
   ]
  },
  {
   "cell_type": "code",
   "execution_count": 17,
   "metadata": {
    "ExecuteTime": {
     "end_time": "2020-12-27T10:10:35.862509Z",
     "start_time": "2020-12-27T10:10:35.835484Z"
    }
   },
   "outputs": [],
   "source": [
    "from sklearn import preprocessing"
   ]
  },
  {
   "cell_type": "code",
   "execution_count": 18,
   "metadata": {
    "ExecuteTime": {
     "end_time": "2020-12-27T10:11:00.410831Z",
     "start_time": "2020-12-27T10:11:00.404825Z"
    }
   },
   "outputs": [],
   "source": [
    "label_encoder = preprocessing.LabelEncoder()\n",
    "onehot_encoder = preprocessing.OneHotEncoder()"
   ]
  },
  {
   "cell_type": "code",
   "execution_count": 20,
   "metadata": {
    "ExecuteTime": {
     "end_time": "2020-12-27T10:11:55.017497Z",
     "start_time": "2020-12-27T10:11:55.014494Z"
    }
   },
   "outputs": [],
   "source": [
    "onehot_location = label_encoder.fit_transform(df['지역'])\n",
    "onehot_code = label_encoder.fit_transform(df['코드'])\n",
    "onehot_type = label_encoder.fit_transform(df['유형'])\n",
    "onehot_day = label_encoder.fit_transform(df['주야'])"
   ]
  },
  {
   "cell_type": "code",
   "execution_count": 21,
   "metadata": {
    "ExecuteTime": {
     "end_time": "2020-12-27T10:12:31.898030Z",
     "start_time": "2020-12-27T10:12:31.885019Z"
    }
   },
   "outputs": [],
   "source": [
    "df['location'] = onehot_location\n",
    "df['code'] = onehot_code\n",
    "df['type'] = onehot_type\n",
    "df['day'] = onehot_day"
   ]
  },
  {
   "cell_type": "code",
   "execution_count": 22,
   "metadata": {
    "ExecuteTime": {
     "end_time": "2020-12-27T10:12:33.782246Z",
     "start_time": "2020-12-27T10:12:33.766232Z"
    }
   },
   "outputs": [
    {
     "data": {
      "text/html": [
       "<div>\n",
       "<style scoped>\n",
       "    .dataframe tbody tr th:only-of-type {\n",
       "        vertical-align: middle;\n",
       "    }\n",
       "\n",
       "    .dataframe tbody tr th {\n",
       "        vertical-align: top;\n",
       "    }\n",
       "\n",
       "    .dataframe thead th {\n",
       "        text-align: right;\n",
       "    }\n",
       "</style>\n",
       "<table border=\"1\" class=\"dataframe\">\n",
       "  <thead>\n",
       "    <tr style=\"text-align: right;\">\n",
       "      <th></th>\n",
       "      <th>지역</th>\n",
       "      <th>학교명</th>\n",
       "      <th>코드</th>\n",
       "      <th>유형</th>\n",
       "      <th>주야</th>\n",
       "      <th>남학생수</th>\n",
       "      <th>여학생수</th>\n",
       "      <th>일반고</th>\n",
       "      <th>특성화고</th>\n",
       "      <th>과학고</th>\n",
       "      <th>...</th>\n",
       "      <th>자공고</th>\n",
       "      <th>기타진학</th>\n",
       "      <th>취업</th>\n",
       "      <th>미상</th>\n",
       "      <th>위도</th>\n",
       "      <th>경도</th>\n",
       "      <th>location</th>\n",
       "      <th>code</th>\n",
       "      <th>type</th>\n",
       "      <th>day</th>\n",
       "    </tr>\n",
       "  </thead>\n",
       "  <tbody>\n",
       "    <tr>\n",
       "      <th>0</th>\n",
       "      <td>성북구</td>\n",
       "      <td>서울대학교사범대학부설중학교</td>\n",
       "      <td>3</td>\n",
       "      <td>국립</td>\n",
       "      <td>주간</td>\n",
       "      <td>277</td>\n",
       "      <td>0</td>\n",
       "      <td>0.585</td>\n",
       "      <td>0.148</td>\n",
       "      <td>0.018</td>\n",
       "      <td>...</td>\n",
       "      <td>0.000</td>\n",
       "      <td>0.004</td>\n",
       "      <td>0</td>\n",
       "      <td>0.000</td>\n",
       "      <td>37.594942</td>\n",
       "      <td>127.038909</td>\n",
       "      <td>16</td>\n",
       "      <td>0</td>\n",
       "      <td>1</td>\n",
       "      <td>0</td>\n",
       "    </tr>\n",
       "    <tr>\n",
       "      <th>1</th>\n",
       "      <td>종로구</td>\n",
       "      <td>서울대학교사범대학부설여자중학교</td>\n",
       "      <td>3</td>\n",
       "      <td>국립</td>\n",
       "      <td>주간</td>\n",
       "      <td>0</td>\n",
       "      <td>256</td>\n",
       "      <td>0.680</td>\n",
       "      <td>0.199</td>\n",
       "      <td>0.000</td>\n",
       "      <td>...</td>\n",
       "      <td>0.004</td>\n",
       "      <td>0.031</td>\n",
       "      <td>0</td>\n",
       "      <td>0.000</td>\n",
       "      <td>37.577473</td>\n",
       "      <td>127.003857</td>\n",
       "      <td>22</td>\n",
       "      <td>0</td>\n",
       "      <td>1</td>\n",
       "      <td>0</td>\n",
       "    </tr>\n",
       "    <tr>\n",
       "      <th>2</th>\n",
       "      <td>강남구</td>\n",
       "      <td>개원중학교</td>\n",
       "      <td>3</td>\n",
       "      <td>공립</td>\n",
       "      <td>주간</td>\n",
       "      <td>170</td>\n",
       "      <td>152</td>\n",
       "      <td>0.817</td>\n",
       "      <td>0.047</td>\n",
       "      <td>0.009</td>\n",
       "      <td>...</td>\n",
       "      <td>0.003</td>\n",
       "      <td>0.009</td>\n",
       "      <td>0</td>\n",
       "      <td>0.003</td>\n",
       "      <td>37.491637</td>\n",
       "      <td>127.071744</td>\n",
       "      <td>0</td>\n",
       "      <td>0</td>\n",
       "      <td>0</td>\n",
       "      <td>0</td>\n",
       "    </tr>\n",
       "    <tr>\n",
       "      <th>3</th>\n",
       "      <td>강남구</td>\n",
       "      <td>개포중학교</td>\n",
       "      <td>3</td>\n",
       "      <td>공립</td>\n",
       "      <td>주간</td>\n",
       "      <td>83</td>\n",
       "      <td>72</td>\n",
       "      <td>0.755</td>\n",
       "      <td>0.097</td>\n",
       "      <td>0.013</td>\n",
       "      <td>...</td>\n",
       "      <td>0.000</td>\n",
       "      <td>0.019</td>\n",
       "      <td>0</td>\n",
       "      <td>0.000</td>\n",
       "      <td>37.480439</td>\n",
       "      <td>127.062201</td>\n",
       "      <td>0</td>\n",
       "      <td>0</td>\n",
       "      <td>0</td>\n",
       "      <td>0</td>\n",
       "    </tr>\n",
       "    <tr>\n",
       "      <th>4</th>\n",
       "      <td>서초구</td>\n",
       "      <td>경원중학교</td>\n",
       "      <td>3</td>\n",
       "      <td>공립</td>\n",
       "      <td>주간</td>\n",
       "      <td>199</td>\n",
       "      <td>212</td>\n",
       "      <td>0.669</td>\n",
       "      <td>0.017</td>\n",
       "      <td>0.007</td>\n",
       "      <td>...</td>\n",
       "      <td>0.000</td>\n",
       "      <td>0.010</td>\n",
       "      <td>0</td>\n",
       "      <td>0.000</td>\n",
       "      <td>37.510750</td>\n",
       "      <td>127.008900</td>\n",
       "      <td>14</td>\n",
       "      <td>0</td>\n",
       "      <td>0</td>\n",
       "      <td>0</td>\n",
       "    </tr>\n",
       "  </tbody>\n",
       "</table>\n",
       "<p>5 rows × 24 columns</p>\n",
       "</div>"
      ],
      "text/plain": [
       "    지역               학교명  코드  유형  주야  남학생수  여학생수    일반고   특성화고    과학고  ...  \\\n",
       "0  성북구    서울대학교사범대학부설중학교   3  국립  주간   277     0  0.585  0.148  0.018  ...   \n",
       "1  종로구  서울대학교사범대학부설여자중학교   3  국립  주간     0   256  0.680  0.199  0.000  ...   \n",
       "2  강남구             개원중학교   3  공립  주간   170   152  0.817  0.047  0.009  ...   \n",
       "3  강남구             개포중학교   3  공립  주간    83    72  0.755  0.097  0.013  ...   \n",
       "4  서초구             경원중학교   3  공립  주간   199   212  0.669  0.017  0.007  ...   \n",
       "\n",
       "     자공고   기타진학  취업     미상         위도          경도  location  code  type  day  \n",
       "0  0.000  0.004   0  0.000  37.594942  127.038909        16     0     1    0  \n",
       "1  0.004  0.031   0  0.000  37.577473  127.003857        22     0     1    0  \n",
       "2  0.003  0.009   0  0.003  37.491637  127.071744         0     0     0    0  \n",
       "3  0.000  0.019   0  0.000  37.480439  127.062201         0     0     0    0  \n",
       "4  0.000  0.010   0  0.000  37.510750  127.008900        14     0     0    0  \n",
       "\n",
       "[5 rows x 24 columns]"
      ]
     },
     "execution_count": 22,
     "metadata": {},
     "output_type": "execute_result"
    }
   ],
   "source": [
    "df.head()"
   ]
  },
  {
   "cell_type": "markdown",
   "metadata": {},
   "source": [
    "## Step 4 DBSCAN 군집 모형 - sklearn 사용 "
   ]
  },
  {
   "cell_type": "markdown",
   "metadata": {},
   "source": [
    "### sklearn 라이브러리에서 cluster 군집 모형 가져오기"
   ]
  },
  {
   "cell_type": "code",
   "execution_count": 23,
   "metadata": {
    "ExecuteTime": {
     "end_time": "2020-12-27T10:14:00.919989Z",
     "start_time": "2020-12-27T10:14:00.814893Z"
    }
   },
   "outputs": [],
   "source": [
    "from sklearn import cluster"
   ]
  },
  {
   "cell_type": "markdown",
   "metadata": {},
   "source": [
    "### 분석에 사용할 속성 선택(과학고, 외고국제고, 자사고 진학률)"
   ]
  },
  {
   "cell_type": "code",
   "execution_count": 24,
   "metadata": {
    "ExecuteTime": {
     "end_time": "2020-12-27T10:15:57.259298Z",
     "start_time": "2020-12-27T10:15:57.237278Z"
    }
   },
   "outputs": [
    {
     "data": {
      "text/html": [
       "<div>\n",
       "<style scoped>\n",
       "    .dataframe tbody tr th:only-of-type {\n",
       "        vertical-align: middle;\n",
       "    }\n",
       "\n",
       "    .dataframe tbody tr th {\n",
       "        vertical-align: top;\n",
       "    }\n",
       "\n",
       "    .dataframe thead th {\n",
       "        text-align: right;\n",
       "    }\n",
       "</style>\n",
       "<table border=\"1\" class=\"dataframe\">\n",
       "  <thead>\n",
       "    <tr style=\"text-align: right;\">\n",
       "      <th></th>\n",
       "      <th>과학고</th>\n",
       "      <th>외고_국제고</th>\n",
       "      <th>자사고</th>\n",
       "    </tr>\n",
       "  </thead>\n",
       "  <tbody>\n",
       "    <tr>\n",
       "      <th>0</th>\n",
       "      <td>0.018</td>\n",
       "      <td>0.007</td>\n",
       "      <td>0.227</td>\n",
       "    </tr>\n",
       "    <tr>\n",
       "      <th>1</th>\n",
       "      <td>0.000</td>\n",
       "      <td>0.035</td>\n",
       "      <td>0.043</td>\n",
       "    </tr>\n",
       "    <tr>\n",
       "      <th>2</th>\n",
       "      <td>0.009</td>\n",
       "      <td>0.012</td>\n",
       "      <td>0.090</td>\n",
       "    </tr>\n",
       "    <tr>\n",
       "      <th>3</th>\n",
       "      <td>0.013</td>\n",
       "      <td>0.013</td>\n",
       "      <td>0.065</td>\n",
       "    </tr>\n",
       "    <tr>\n",
       "      <th>4</th>\n",
       "      <td>0.007</td>\n",
       "      <td>0.010</td>\n",
       "      <td>0.282</td>\n",
       "    </tr>\n",
       "    <tr>\n",
       "      <th>...</th>\n",
       "      <td>...</td>\n",
       "      <td>...</td>\n",
       "      <td>...</td>\n",
       "    </tr>\n",
       "    <tr>\n",
       "      <th>410</th>\n",
       "      <td>0.000</td>\n",
       "      <td>0.000</td>\n",
       "      <td>0.000</td>\n",
       "    </tr>\n",
       "    <tr>\n",
       "      <th>411</th>\n",
       "      <td>0.000</td>\n",
       "      <td>0.000</td>\n",
       "      <td>0.000</td>\n",
       "    </tr>\n",
       "    <tr>\n",
       "      <th>412</th>\n",
       "      <td>0.000</td>\n",
       "      <td>0.000</td>\n",
       "      <td>0.000</td>\n",
       "    </tr>\n",
       "    <tr>\n",
       "      <th>413</th>\n",
       "      <td>0.000</td>\n",
       "      <td>0.000</td>\n",
       "      <td>0.000</td>\n",
       "    </tr>\n",
       "    <tr>\n",
       "      <th>414</th>\n",
       "      <td>0.000</td>\n",
       "      <td>0.024</td>\n",
       "      <td>0.010</td>\n",
       "    </tr>\n",
       "  </tbody>\n",
       "</table>\n",
       "<p>415 rows × 3 columns</p>\n",
       "</div>"
      ],
      "text/plain": [
       "       과학고  외고_국제고    자사고\n",
       "0    0.018   0.007  0.227\n",
       "1    0.000   0.035  0.043\n",
       "2    0.009   0.012  0.090\n",
       "3    0.013   0.013  0.065\n",
       "4    0.007   0.010  0.282\n",
       "..     ...     ...    ...\n",
       "410  0.000   0.000  0.000\n",
       "411  0.000   0.000  0.000\n",
       "412  0.000   0.000  0.000\n",
       "413  0.000   0.000  0.000\n",
       "414  0.000   0.024  0.010\n",
       "\n",
       "[415 rows x 3 columns]"
      ]
     },
     "execution_count": 24,
     "metadata": {},
     "output_type": "execute_result"
    }
   ],
   "source": [
    "columns_list = [9, 10, 13]\n",
    "X = df.iloc[:, columns_list]\n",
    "X"
   ]
  },
  {
   "cell_type": "markdown",
   "metadata": {},
   "source": [
    "### 설명 변수 데이터 정규화"
   ]
  },
  {
   "cell_type": "code",
   "execution_count": 25,
   "metadata": {
    "ExecuteTime": {
     "end_time": "2020-12-27T10:16:29.323959Z",
     "start_time": "2020-12-27T10:16:29.305943Z"
    }
   },
   "outputs": [],
   "source": [
    "X = preprocessing.StandardScaler().fit(X).transform(X)"
   ]
  },
  {
   "cell_type": "markdown",
   "metadata": {},
   "source": [
    "### DBSCAN 모형 객체 생성"
   ]
  },
  {
   "cell_type": "code",
   "execution_count": 27,
   "metadata": {
    "ExecuteTime": {
     "end_time": "2020-12-27T10:16:57.107727Z",
     "start_time": "2020-12-27T10:16:57.094715Z"
    }
   },
   "outputs": [],
   "source": [
    "dbm = cluster.DBSCAN(eps=0.2, min_samples=5)"
   ]
  },
  {
   "cell_type": "markdown",
   "metadata": {},
   "source": [
    "반지름 R = 0.2, 최소 포인트 개수 M = 5"
   ]
  },
  {
   "cell_type": "markdown",
   "metadata": {},
   "source": [
    "### 모형 학습"
   ]
  },
  {
   "cell_type": "code",
   "execution_count": 28,
   "metadata": {
    "ExecuteTime": {
     "end_time": "2020-12-27T10:17:30.854916Z",
     "start_time": "2020-12-27T10:17:30.834898Z"
    }
   },
   "outputs": [
    {
     "data": {
      "text/plain": [
       "DBSCAN(eps=0.2)"
      ]
     },
     "execution_count": 28,
     "metadata": {},
     "output_type": "execute_result"
    }
   ],
   "source": [
    "dbm.fit(X)"
   ]
  },
  {
   "cell_type": "markdown",
   "metadata": {},
   "source": [
    "### 예측(군집)"
   ]
  },
  {
   "cell_type": "code",
   "execution_count": 31,
   "metadata": {
    "ExecuteTime": {
     "end_time": "2020-12-27T10:18:15.523052Z",
     "start_time": "2020-12-27T10:18:15.516045Z"
    },
    "scrolled": true
   },
   "outputs": [
    {
     "data": {
      "text/plain": [
       "array([-1, -1, -1, -1, -1, -1, -1, -1, -1, -1, -1, -1, -1,  0, -1, -1, -1,\n",
       "       -1, -1, -1,  2, -1,  0, -1, -1, -1, -1, -1,  0, -1, -1, -1, -1, -1,\n",
       "        0,  3, -1, -1, -1, -1, -1, -1, -1,  0, -1, -1,  1,  0, -1, -1, -1,\n",
       "        0, -1, -1, -1, -1,  0, -1,  0,  0, -1, -1,  0, -1, -1, -1,  0,  0,\n",
       "       -1, -1,  0, -1, -1, -1,  0, -1, -1, -1,  0,  2,  0,  0,  0,  0,  0,\n",
       "       -1, -1, -1,  0, -1,  0, -1, -1,  0, -1,  0, -1,  0,  0, -1, -1, -1,\n",
       "       -1,  1,  0, -1,  0,  0, -1, -1, -1,  0, -1, -1, -1, -1, -1,  0,  1,\n",
       "       -1, -1,  0,  2,  0, -1, -1,  1, -1, -1, -1,  0,  0,  0, -1, -1,  0,\n",
       "       -1, -1, -1,  0,  0, -1, -1, -1, -1,  0, -1, -1, -1,  0, -1, -1, -1,\n",
       "        0, -1,  0,  0, -1, -1, -1, -1, -1,  0, -1,  0,  0, -1, -1, -1, -1,\n",
       "       -1,  0, -1, -1, -1,  1,  0,  3,  1, -1,  0,  0, -1,  0, -1, -1,  0,\n",
       "        0,  2, -1, -1,  3,  0,  0, -1, -1, -1, -1,  0, -1,  0,  0, -1,  0,\n",
       "        0,  0, -1, -1,  0, -1, -1, -1, -1, -1,  2,  0, -1, -1, -1, -1, -1,\n",
       "       -1, -1, -1, -1, -1, -1, -1, -1, -1,  0, -1, -1, -1,  0, -1, -1, -1,\n",
       "       -1, -1, -1, -1, -1, -1, -1, -1, -1, -1, -1,  0, -1, -1, -1,  0,  0,\n",
       "       -1, -1,  0, -1,  3,  0,  2, -1, -1, -1, -1,  0, -1, -1, -1,  0, -1,\n",
       "        0,  0, -1, -1, -1, -1, -1,  1, -1,  0,  1, -1,  0,  0,  1, -1,  2,\n",
       "       -1,  0, -1, -1, -1, -1,  0, -1, -1,  1,  0, -1,  0, -1, -1,  0,  3,\n",
       "        0, -1, -1, -1,  2, -1, -1, -1, -1,  0,  0,  0,  1, -1, -1, -1, -1,\n",
       "       -1, -1, -1, -1,  0, -1,  0, -1,  0, -1, -1,  0,  0, -1, -1, -1,  0,\n",
       "       -1,  0, -1, -1,  0, -1, -1, -1,  0,  1, -1, -1, -1,  0,  1,  1,  1,\n",
       "       -1, -1, -1, -1, -1, -1, -1, -1, -1, -1, -1, -1, -1, -1, -1, -1, -1,\n",
       "       -1, -1, -1,  0, -1, -1, -1,  0, -1,  0,  1,  1,  1,  1,  1,  1,  1,\n",
       "        1,  1,  1,  1,  1,  1,  1,  1,  1,  1,  1,  1,  1,  1,  1,  1,  1,\n",
       "        1,  1,  1,  1,  1,  1,  0], dtype=int32)"
      ]
     },
     "execution_count": 31,
     "metadata": {},
     "output_type": "execute_result"
    }
   ],
   "source": [
    "cluster_label = dbm.labels_\n",
    "cluster_label"
   ]
  },
  {
   "cell_type": "markdown",
   "metadata": {},
   "source": [
    "-1, 0, 1, 2, 3의 5개 값이 확인된다. -1은 Noise를 나타내므로 모형이 구분한 클러스터는 Noise를 제외한 0, 1, 2, 3으로 모두 4개가 된다."
   ]
  },
  {
   "cell_type": "markdown",
   "metadata": {},
   "source": [
    "### 예측 결과를 데이터프레임에 추가"
   ]
  },
  {
   "cell_type": "code",
   "execution_count": 32,
   "metadata": {
    "ExecuteTime": {
     "end_time": "2020-12-27T10:19:19.350598Z",
     "start_time": "2020-12-27T10:19:19.335584Z"
    },
    "scrolled": true
   },
   "outputs": [
    {
     "data": {
      "text/html": [
       "<div>\n",
       "<style scoped>\n",
       "    .dataframe tbody tr th:only-of-type {\n",
       "        vertical-align: middle;\n",
       "    }\n",
       "\n",
       "    .dataframe tbody tr th {\n",
       "        vertical-align: top;\n",
       "    }\n",
       "\n",
       "    .dataframe thead th {\n",
       "        text-align: right;\n",
       "    }\n",
       "</style>\n",
       "<table border=\"1\" class=\"dataframe\">\n",
       "  <thead>\n",
       "    <tr style=\"text-align: right;\">\n",
       "      <th></th>\n",
       "      <th>지역</th>\n",
       "      <th>학교명</th>\n",
       "      <th>코드</th>\n",
       "      <th>유형</th>\n",
       "      <th>주야</th>\n",
       "      <th>남학생수</th>\n",
       "      <th>여학생수</th>\n",
       "      <th>일반고</th>\n",
       "      <th>특성화고</th>\n",
       "      <th>과학고</th>\n",
       "      <th>...</th>\n",
       "      <th>기타진학</th>\n",
       "      <th>취업</th>\n",
       "      <th>미상</th>\n",
       "      <th>위도</th>\n",
       "      <th>경도</th>\n",
       "      <th>location</th>\n",
       "      <th>code</th>\n",
       "      <th>type</th>\n",
       "      <th>day</th>\n",
       "      <th>Cluster</th>\n",
       "    </tr>\n",
       "  </thead>\n",
       "  <tbody>\n",
       "    <tr>\n",
       "      <th>0</th>\n",
       "      <td>성북구</td>\n",
       "      <td>서울대학교사범대학부설중학교</td>\n",
       "      <td>3</td>\n",
       "      <td>국립</td>\n",
       "      <td>주간</td>\n",
       "      <td>277</td>\n",
       "      <td>0</td>\n",
       "      <td>0.585</td>\n",
       "      <td>0.148</td>\n",
       "      <td>0.018</td>\n",
       "      <td>...</td>\n",
       "      <td>0.004</td>\n",
       "      <td>0</td>\n",
       "      <td>0.000</td>\n",
       "      <td>37.594942</td>\n",
       "      <td>127.038909</td>\n",
       "      <td>16</td>\n",
       "      <td>0</td>\n",
       "      <td>1</td>\n",
       "      <td>0</td>\n",
       "      <td>-1</td>\n",
       "    </tr>\n",
       "    <tr>\n",
       "      <th>1</th>\n",
       "      <td>종로구</td>\n",
       "      <td>서울대학교사범대학부설여자중학교</td>\n",
       "      <td>3</td>\n",
       "      <td>국립</td>\n",
       "      <td>주간</td>\n",
       "      <td>0</td>\n",
       "      <td>256</td>\n",
       "      <td>0.680</td>\n",
       "      <td>0.199</td>\n",
       "      <td>0.000</td>\n",
       "      <td>...</td>\n",
       "      <td>0.031</td>\n",
       "      <td>0</td>\n",
       "      <td>0.000</td>\n",
       "      <td>37.577473</td>\n",
       "      <td>127.003857</td>\n",
       "      <td>22</td>\n",
       "      <td>0</td>\n",
       "      <td>1</td>\n",
       "      <td>0</td>\n",
       "      <td>-1</td>\n",
       "    </tr>\n",
       "    <tr>\n",
       "      <th>2</th>\n",
       "      <td>강남구</td>\n",
       "      <td>개원중학교</td>\n",
       "      <td>3</td>\n",
       "      <td>공립</td>\n",
       "      <td>주간</td>\n",
       "      <td>170</td>\n",
       "      <td>152</td>\n",
       "      <td>0.817</td>\n",
       "      <td>0.047</td>\n",
       "      <td>0.009</td>\n",
       "      <td>...</td>\n",
       "      <td>0.009</td>\n",
       "      <td>0</td>\n",
       "      <td>0.003</td>\n",
       "      <td>37.491637</td>\n",
       "      <td>127.071744</td>\n",
       "      <td>0</td>\n",
       "      <td>0</td>\n",
       "      <td>0</td>\n",
       "      <td>0</td>\n",
       "      <td>-1</td>\n",
       "    </tr>\n",
       "    <tr>\n",
       "      <th>3</th>\n",
       "      <td>강남구</td>\n",
       "      <td>개포중학교</td>\n",
       "      <td>3</td>\n",
       "      <td>공립</td>\n",
       "      <td>주간</td>\n",
       "      <td>83</td>\n",
       "      <td>72</td>\n",
       "      <td>0.755</td>\n",
       "      <td>0.097</td>\n",
       "      <td>0.013</td>\n",
       "      <td>...</td>\n",
       "      <td>0.019</td>\n",
       "      <td>0</td>\n",
       "      <td>0.000</td>\n",
       "      <td>37.480439</td>\n",
       "      <td>127.062201</td>\n",
       "      <td>0</td>\n",
       "      <td>0</td>\n",
       "      <td>0</td>\n",
       "      <td>0</td>\n",
       "      <td>-1</td>\n",
       "    </tr>\n",
       "    <tr>\n",
       "      <th>4</th>\n",
       "      <td>서초구</td>\n",
       "      <td>경원중학교</td>\n",
       "      <td>3</td>\n",
       "      <td>공립</td>\n",
       "      <td>주간</td>\n",
       "      <td>199</td>\n",
       "      <td>212</td>\n",
       "      <td>0.669</td>\n",
       "      <td>0.017</td>\n",
       "      <td>0.007</td>\n",
       "      <td>...</td>\n",
       "      <td>0.010</td>\n",
       "      <td>0</td>\n",
       "      <td>0.000</td>\n",
       "      <td>37.510750</td>\n",
       "      <td>127.008900</td>\n",
       "      <td>14</td>\n",
       "      <td>0</td>\n",
       "      <td>0</td>\n",
       "      <td>0</td>\n",
       "      <td>-1</td>\n",
       "    </tr>\n",
       "  </tbody>\n",
       "</table>\n",
       "<p>5 rows × 25 columns</p>\n",
       "</div>"
      ],
      "text/plain": [
       "    지역               학교명  코드  유형  주야  남학생수  여학생수    일반고   특성화고    과학고  ...  \\\n",
       "0  성북구    서울대학교사범대학부설중학교   3  국립  주간   277     0  0.585  0.148  0.018  ...   \n",
       "1  종로구  서울대학교사범대학부설여자중학교   3  국립  주간     0   256  0.680  0.199  0.000  ...   \n",
       "2  강남구             개원중학교   3  공립  주간   170   152  0.817  0.047  0.009  ...   \n",
       "3  강남구             개포중학교   3  공립  주간    83    72  0.755  0.097  0.013  ...   \n",
       "4  서초구             경원중학교   3  공립  주간   199   212  0.669  0.017  0.007  ...   \n",
       "\n",
       "    기타진학  취업     미상         위도          경도  location  code  type  day  Cluster  \n",
       "0  0.004   0  0.000  37.594942  127.038909        16     0     1    0       -1  \n",
       "1  0.031   0  0.000  37.577473  127.003857        22     0     1    0       -1  \n",
       "2  0.009   0  0.003  37.491637  127.071744         0     0     0    0       -1  \n",
       "3  0.019   0  0.000  37.480439  127.062201         0     0     0    0       -1  \n",
       "4  0.010   0  0.000  37.510750  127.008900        14     0     0    0       -1  \n",
       "\n",
       "[5 rows x 25 columns]"
      ]
     },
     "execution_count": 32,
     "metadata": {},
     "output_type": "execute_result"
    }
   ],
   "source": [
    "df['Cluster'] = cluster_label\n",
    "df.head()"
   ]
  },
  {
   "cell_type": "markdown",
   "metadata": {},
   "source": [
    "### 클러스터 값으로 그룹화하고 그룹별로 내용 출력"
   ]
  },
  {
   "cell_type": "code",
   "execution_count": 33,
   "metadata": {
    "ExecuteTime": {
     "end_time": "2020-12-27T10:21:12.011048Z",
     "start_time": "2020-12-27T10:21:12.006044Z"
    }
   },
   "outputs": [],
   "source": [
    "grouped_cols = [0, 1, 3] + columns_list"
   ]
  },
  {
   "cell_type": "code",
   "execution_count": 34,
   "metadata": {
    "ExecuteTime": {
     "end_time": "2020-12-27T10:21:24.765653Z",
     "start_time": "2020-12-27T10:21:24.755644Z"
    }
   },
   "outputs": [],
   "source": [
    "grouped = df.groupby('Cluster')"
   ]
  },
  {
   "cell_type": "code",
   "execution_count": 35,
   "metadata": {
    "ExecuteTime": {
     "end_time": "2020-12-27T10:22:21.066353Z",
     "start_time": "2020-12-27T10:22:21.045334Z"
    }
   },
   "outputs": [
    {
     "name": "stdout",
     "output_type": "stream",
     "text": [
      "* key:  -1\n",
      "* number:  255\n",
      "    지역               학교명  유형    과학고  외고_국제고    자사고\n",
      "0  성북구    서울대학교사범대학부설중학교  국립  0.018   0.007  0.227\n",
      "1  종로구  서울대학교사범대학부설여자중학교  국립  0.000   0.035  0.043\n",
      "2  강남구             개원중학교  공립  0.009   0.012  0.090\n",
      "3  강남구             개포중학교  공립  0.013   0.013  0.065\n",
      "4  서초구             경원중학교  공립  0.007   0.010  0.282\n",
      "\n",
      "\n",
      "* key:  0\n",
      "* number:  102\n",
      "     지역      학교명  유형  과학고  외고_국제고    자사고\n",
      "13  서초구  동덕여자중학교  사립  0.0   0.022  0.038\n",
      "22  강남구    수서중학교  공립  0.0   0.019  0.044\n",
      "28  서초구    언남중학교  공립  0.0   0.015  0.050\n",
      "34  강남구    은성중학교  사립  0.0   0.016  0.065\n",
      "43  송파구    거원중학교  공립  0.0   0.021  0.054\n",
      "\n",
      "\n",
      "* key:  1\n",
      "* number:  45\n",
      "       지역      학교명  유형  과학고  외고_국제고    자사고\n",
      "46    강동구    동신중학교  사립  0.0     0.0  0.044\n",
      "103   양천구    신원중학교  공립  0.0     0.0  0.006\n",
      "118   구로구    개봉중학교  공립  0.0     0.0  0.012\n",
      "126  영등포구    대림중학교  공립  0.0     0.0  0.050\n",
      "175   중랑구  혜원여자중학교  사립  0.0     0.0  0.004\n",
      "\n",
      "\n",
      "* key:  2\n",
      "* number:  8\n",
      "      지역    학교명  유형    과학고  외고_국제고    자사고\n",
      "20   서초구  서초중학교  공립  0.003   0.013  0.085\n",
      "79   강동구  한영중학교  사립  0.004   0.011  0.077\n",
      "122  구로구  구일중학교  공립  0.004   0.012  0.079\n",
      "188  동작구  대방중학교  공립  0.003   0.015  0.076\n",
      "214  도봉구  도봉중학교  공립  0.004   0.011  0.072\n",
      "\n",
      "\n",
      "* key:  3\n",
      "* number:  5\n",
      "       지역    학교명  유형  과학고  외고_국제고    자사고\n",
      "35    서초구  이수중학교  공립  0.0   0.004  0.100\n",
      "177  동대문구  휘경중학교  공립  0.0   0.004  0.094\n",
      "191   동작구  문창중학교  공립  0.0   0.004  0.084\n",
      "259   마포구  성사중학교  공립  0.0   0.004  0.078\n",
      "305   강북구  강북중학교  공립  0.0   0.004  0.088\n",
      "\n",
      "\n"
     ]
    }
   ],
   "source": [
    "for key, group in grouped:\n",
    "    print('* key: ', key)\n",
    "    print('* number: ', len(group))\n",
    "    print(group.iloc[:, grouped_cols].head())\n",
    "    print('\\n')"
   ]
  },
  {
   "cell_type": "markdown",
   "metadata": {},
   "source": [
    "### 그래프로 표현 - 시각화"
   ]
  },
  {
   "cell_type": "code",
   "execution_count": 36,
   "metadata": {
    "ExecuteTime": {
     "end_time": "2020-12-27T10:24:02.553642Z",
     "start_time": "2020-12-27T10:24:02.545634Z"
    }
   },
   "outputs": [],
   "source": [
    "colors = {-1:'gray', 0:'coral', 1:'blue', 2:'green', 3:'red', 4:'purple',\n",
    "         5:'orange', 6:'brown', 7:'brick', 8:'yellow', 9:'magenta', 10:'cyan'}"
   ]
  },
  {
   "cell_type": "code",
   "execution_count": 67,
   "metadata": {
    "ExecuteTime": {
     "end_time": "2020-12-27T10:37:45.260521Z",
     "start_time": "2020-12-27T10:37:45.244507Z"
    }
   },
   "outputs": [],
   "source": [
    "cluster_map = folium.Map(location=[37.55, 126.98], tiles='Stamen Terrain',\n",
    "                        zoom_start=12)"
   ]
  },
  {
   "cell_type": "code",
   "execution_count": 68,
   "metadata": {
    "ExecuteTime": {
     "end_time": "2020-12-27T10:37:45.419666Z",
     "start_time": "2020-12-27T10:37:45.395644Z"
    }
   },
   "outputs": [],
   "source": [
    "for name, lat, lng, clus in zip(df.학교명, df.위도, df.경도, df.Cluster):\n",
    "    folium.CircleMarker([lat, lng],\n",
    "                       radius=5,\n",
    "                       color=colors[clus],\n",
    "                       fill=True,\n",
    "                       fill_color=colors[clus],\n",
    "                       fill_opacity=0.7,\n",
    "                       popup=name).add_to(cluster_map)"
   ]
  },
  {
   "cell_type": "markdown",
   "metadata": {},
   "source": [
    "### 지도를 html 파일로 저장하기 "
   ]
  },
  {
   "cell_type": "code",
   "execution_count": 69,
   "metadata": {
    "ExecuteTime": {
     "end_time": "2020-12-27T10:37:45.914115Z",
     "start_time": "2020-12-27T10:37:45.654880Z"
    }
   },
   "outputs": [],
   "source": [
    "cluster_map.save('./seoul_mschool_cluster.html')"
   ]
  },
  {
   "cell_type": "markdown",
   "metadata": {},
   "source": [
    "### X2 데이터셋에 대하여 위 과정 반복(과고, 외고국제고, 자사고 진학률 + 유형)"
   ]
  },
  {
   "cell_type": "markdown",
   "metadata": {},
   "source": [
    "앞에서 사용한 속성에 학교 설립 유형(국립, 공립, 사립)을 추가하여 분석한다.\n",
    "이때 유형은 위에서 원핫벡터로 정리된 값을 사용한다."
   ]
  },
  {
   "cell_type": "code",
   "execution_count": null,
   "metadata": {},
   "outputs": [],
   "source": []
  },
  {
   "cell_type": "code",
   "execution_count": 70,
   "metadata": {
    "ExecuteTime": {
     "end_time": "2020-12-27T10:37:46.249420Z",
     "start_time": "2020-12-27T10:37:46.229402Z"
    }
   },
   "outputs": [
    {
     "data": {
      "text/html": [
       "<div>\n",
       "<style scoped>\n",
       "    .dataframe tbody tr th:only-of-type {\n",
       "        vertical-align: middle;\n",
       "    }\n",
       "\n",
       "    .dataframe tbody tr th {\n",
       "        vertical-align: top;\n",
       "    }\n",
       "\n",
       "    .dataframe thead th {\n",
       "        text-align: right;\n",
       "    }\n",
       "</style>\n",
       "<table border=\"1\" class=\"dataframe\">\n",
       "  <thead>\n",
       "    <tr style=\"text-align: right;\">\n",
       "      <th></th>\n",
       "      <th>과학고</th>\n",
       "      <th>외고_국제고</th>\n",
       "      <th>자사고</th>\n",
       "      <th>type</th>\n",
       "    </tr>\n",
       "  </thead>\n",
       "  <tbody>\n",
       "    <tr>\n",
       "      <th>0</th>\n",
       "      <td>0.018</td>\n",
       "      <td>0.007</td>\n",
       "      <td>0.227</td>\n",
       "      <td>1</td>\n",
       "    </tr>\n",
       "    <tr>\n",
       "      <th>1</th>\n",
       "      <td>0.000</td>\n",
       "      <td>0.035</td>\n",
       "      <td>0.043</td>\n",
       "      <td>1</td>\n",
       "    </tr>\n",
       "    <tr>\n",
       "      <th>2</th>\n",
       "      <td>0.009</td>\n",
       "      <td>0.012</td>\n",
       "      <td>0.090</td>\n",
       "      <td>0</td>\n",
       "    </tr>\n",
       "    <tr>\n",
       "      <th>3</th>\n",
       "      <td>0.013</td>\n",
       "      <td>0.013</td>\n",
       "      <td>0.065</td>\n",
       "      <td>0</td>\n",
       "    </tr>\n",
       "    <tr>\n",
       "      <th>4</th>\n",
       "      <td>0.007</td>\n",
       "      <td>0.010</td>\n",
       "      <td>0.282</td>\n",
       "      <td>0</td>\n",
       "    </tr>\n",
       "    <tr>\n",
       "      <th>...</th>\n",
       "      <td>...</td>\n",
       "      <td>...</td>\n",
       "      <td>...</td>\n",
       "      <td>...</td>\n",
       "    </tr>\n",
       "    <tr>\n",
       "      <th>410</th>\n",
       "      <td>0.000</td>\n",
       "      <td>0.000</td>\n",
       "      <td>0.000</td>\n",
       "      <td>1</td>\n",
       "    </tr>\n",
       "    <tr>\n",
       "      <th>411</th>\n",
       "      <td>0.000</td>\n",
       "      <td>0.000</td>\n",
       "      <td>0.000</td>\n",
       "      <td>1</td>\n",
       "    </tr>\n",
       "    <tr>\n",
       "      <th>412</th>\n",
       "      <td>0.000</td>\n",
       "      <td>0.000</td>\n",
       "      <td>0.000</td>\n",
       "      <td>2</td>\n",
       "    </tr>\n",
       "    <tr>\n",
       "      <th>413</th>\n",
       "      <td>0.000</td>\n",
       "      <td>0.000</td>\n",
       "      <td>0.000</td>\n",
       "      <td>2</td>\n",
       "    </tr>\n",
       "    <tr>\n",
       "      <th>414</th>\n",
       "      <td>0.000</td>\n",
       "      <td>0.024</td>\n",
       "      <td>0.010</td>\n",
       "      <td>2</td>\n",
       "    </tr>\n",
       "  </tbody>\n",
       "</table>\n",
       "<p>415 rows × 4 columns</p>\n",
       "</div>"
      ],
      "text/plain": [
       "       과학고  외고_국제고    자사고  type\n",
       "0    0.018   0.007  0.227     1\n",
       "1    0.000   0.035  0.043     1\n",
       "2    0.009   0.012  0.090     0\n",
       "3    0.013   0.013  0.065     0\n",
       "4    0.007   0.010  0.282     0\n",
       "..     ...     ...    ...   ...\n",
       "410  0.000   0.000  0.000     1\n",
       "411  0.000   0.000  0.000     1\n",
       "412  0.000   0.000  0.000     2\n",
       "413  0.000   0.000  0.000     2\n",
       "414  0.000   0.024  0.010     2\n",
       "\n",
       "[415 rows x 4 columns]"
      ]
     },
     "execution_count": 70,
     "metadata": {},
     "output_type": "execute_result"
    }
   ],
   "source": [
    "columns_list2 = [9, 10, 13, 22]\n",
    "X2 = df.iloc[:, columns_list2]\n",
    "X2"
   ]
  },
  {
   "cell_type": "code",
   "execution_count": 71,
   "metadata": {
    "ExecuteTime": {
     "end_time": "2020-12-27T10:37:46.376536Z",
     "start_time": "2020-12-27T10:37:46.365526Z"
    }
   },
   "outputs": [],
   "source": [
    "X2 = preprocessing.StandardScaler().fit(X2).transform(X2)"
   ]
  },
  {
   "cell_type": "code",
   "execution_count": 72,
   "metadata": {
    "ExecuteTime": {
     "end_time": "2020-12-27T10:37:46.520667Z",
     "start_time": "2020-12-27T10:37:46.507654Z"
    }
   },
   "outputs": [
    {
     "data": {
      "text/plain": [
       "DBSCAN(eps=0.2)"
      ]
     },
     "execution_count": 72,
     "metadata": {},
     "output_type": "execute_result"
    }
   ],
   "source": [
    "dbm2 = cluster.DBSCAN(eps=0.2, min_samples=5)\n",
    "dbm2.fit(X2)"
   ]
  },
  {
   "cell_type": "code",
   "execution_count": 73,
   "metadata": {
    "ExecuteTime": {
     "end_time": "2020-12-27T10:37:46.648783Z",
     "start_time": "2020-12-27T10:37:46.645780Z"
    }
   },
   "outputs": [],
   "source": [
    "df['Cluster2'] = dbm2.labels_"
   ]
  },
  {
   "cell_type": "code",
   "execution_count": 74,
   "metadata": {
    "ExecuteTime": {
     "end_time": "2020-12-27T10:37:46.792914Z",
     "start_time": "2020-12-27T10:37:46.784906Z"
    }
   },
   "outputs": [],
   "source": [
    "grouped2_cols = [0, 1, 3] + columns_list2\n",
    "grouped2 = df.groupby('Cluster2')"
   ]
  },
  {
   "cell_type": "code",
   "execution_count": 75,
   "metadata": {
    "ExecuteTime": {
     "end_time": "2020-12-27T10:37:46.937045Z",
     "start_time": "2020-12-27T10:37:46.925034Z"
    }
   },
   "outputs": [
    {
     "ename": "NameError",
     "evalue": "name 'dddd' is not defined",
     "output_type": "error",
     "traceback": [
      "\u001b[1;31m---------------------------------------------------------------------------\u001b[0m",
      "\u001b[1;31mNameError\u001b[0m                                 Traceback (most recent call last)",
      "\u001b[1;32m<ipython-input-75-a4ee26cea582>\u001b[0m in \u001b[0;36m<module>\u001b[1;34m\u001b[0m\n\u001b[1;32m----> 1\u001b[1;33m \u001b[0mdddd\u001b[0m\u001b[1;33m\u001b[0m\u001b[1;33m\u001b[0m\u001b[0m\n\u001b[0m",
      "\u001b[1;31mNameError\u001b[0m: name 'dddd' is not defined"
     ]
    }
   ],
   "source": [
    "dddd"
   ]
  },
  {
   "cell_type": "code",
   "execution_count": 76,
   "metadata": {
    "ExecuteTime": {
     "end_time": "2020-12-27T10:37:47.161249Z",
     "start_time": "2020-12-27T10:37:47.114206Z"
    }
   },
   "outputs": [
    {
     "name": "stdout",
     "output_type": "stream",
     "text": [
      "* key:  -1\n",
      "* number:  281\n",
      "    지역               학교명  유형    과학고  외고_국제고    자사고  type\n",
      "0  성북구    서울대학교사범대학부설중학교  국립  0.018   0.007  0.227     1\n",
      "1  종로구  서울대학교사범대학부설여자중학교  국립  0.000   0.035  0.043     1\n",
      "2  강남구             개원중학교  공립  0.009   0.012  0.090     0\n",
      "3  강남구             개포중학교  공립  0.013   0.013  0.065     0\n",
      "4  서초구             경원중학교  공립  0.007   0.010  0.282     0\n",
      "\n",
      "\n",
      "* key:  0\n",
      "* number:  8\n",
      "      지역    학교명  유형  과학고  외고_국제고    자사고  type\n",
      "22   강남구  수서중학교  공립  0.0   0.019  0.044     0\n",
      "43   송파구  거원중학교  공립  0.0   0.021  0.054     0\n",
      "51   송파구  방이중학교  공립  0.0   0.021  0.068     0\n",
      "93   강서구  방원중학교  공립  0.0   0.019  0.057     0\n",
      "164  중랑구  원묵중학교  공립  0.0   0.020  0.062     0\n",
      "\n",
      "\n",
      "* key:  1\n",
      "* number:  59\n",
      "     지역    학교명  유형  과학고  외고_국제고    자사고  type\n",
      "28  서초구  언남중학교  공립  0.0   0.015  0.050     0\n",
      "47  강동구  둔촌중학교  공립  0.0   0.010  0.026     0\n",
      "58  강동구  성내중학교  공립  0.0   0.013  0.026     0\n",
      "62  강동구  신명중학교  공립  0.0   0.009  0.031     0\n",
      "67  송파구  오금중학교  공립  0.0   0.015  0.072     0\n",
      "\n",
      "\n",
      "* key:  2\n",
      "* number:  6\n",
      "       지역      학교명  유형  과학고  외고_국제고    자사고  type\n",
      "46    강동구    동신중학교  사립  0.0     0.0  0.044     2\n",
      "279  서대문구  중앙여자중학교  사립  0.0     0.0  0.036     2\n",
      "282  서대문구    한성중학교  사립  0.0     0.0  0.042     2\n",
      "349    중구    장충중학교  사립  0.0     0.0  0.038     2\n",
      "354    중구    한양중학교  사립  0.0     0.0  0.034     2\n",
      "\n",
      "\n",
      "* key:  3\n",
      "* number:  11\n",
      "      지역      학교명  유형  과학고  외고_국제고    자사고  type\n",
      "103  양천구    신원중학교  공립  0.0     0.0  0.006     0\n",
      "118  구로구    개봉중학교  공립  0.0     0.0  0.012     0\n",
      "356  송파구  서울체육중학교  공립  0.0     0.0  0.000     0\n",
      "391  광진구   서울광진학교  공립  0.0     0.0  0.000     0\n",
      "396  관악구   서울정문학교  공립  0.0     0.0  0.000     0\n",
      "\n",
      "\n",
      "* key:  4\n",
      "* number:  7\n",
      "      지역    학교명  유형    과학고  외고_국제고    자사고  type\n",
      "20   서초구  서초중학교  공립  0.003   0.013  0.085     0\n",
      "122  구로구  구일중학교  공립  0.004   0.012  0.079     0\n",
      "188  동작구  대방중학교  공립  0.003   0.015  0.076     0\n",
      "214  도봉구  도봉중학교  공립  0.004   0.011  0.072     0\n",
      "261  마포구  성서중학교  공립  0.004   0.016  0.067     0\n",
      "\n",
      "\n",
      "* key:  5\n",
      "* number:  18\n",
      "      지역      학교명  유형  과학고  외고_국제고    자사고  type\n",
      "175  중랑구  혜원여자중학교  사립  0.0     0.0  0.004     2\n",
      "387  강서구     교남학교  사립  0.0     0.0  0.000     2\n",
      "388  서초구    다니엘학교  사립  0.0     0.0  0.000     2\n",
      "389  강남구     밀알학교  사립  0.0     0.0  0.000     2\n",
      "390  관악구     새롬학교  사립  0.0     0.0  0.000     2\n",
      "\n",
      "\n",
      "* key:  6\n",
      "* number:  5\n",
      "       지역    학교명  유형  과학고  외고_국제고    자사고  type\n",
      "126  영등포구  대림중학교  공립  0.0     0.0  0.050     0\n",
      "178   동작구  강남중학교  공립  0.0     0.0  0.028     0\n",
      "286   성동구  경수중학교  공립  0.0     0.0  0.043     0\n",
      "298   성동구  성원중학교  공립  0.0     0.0  0.042     0\n",
      "318   강북구  수유중학교  공립  0.0     0.0  0.052     0\n",
      "\n",
      "\n",
      "* key:  7\n",
      "* number:  5\n",
      "       지역    학교명  유형  과학고  외고_국제고    자사고  type\n",
      "35    서초구  이수중학교  공립  0.0   0.004  0.100     0\n",
      "177  동대문구  휘경중학교  공립  0.0   0.004  0.094     0\n",
      "191   동작구  문창중학교  공립  0.0   0.004  0.084     0\n",
      "259   마포구  성사중학교  공립  0.0   0.004  0.078     0\n",
      "305   강북구  강북중학교  공립  0.0   0.004  0.088     0\n",
      "\n",
      "\n",
      "* key:  8\n",
      "* number:  5\n",
      "      지역        학교명  유형  과학고  외고_국제고    자사고  type\n",
      "198  관악구  서울문영여자중학교  사립  0.0   0.021  0.014     2\n",
      "316  강북구    성암여자중학교  사립  0.0   0.020  0.008     2\n",
      "327  성북구    한성여자중학교  사립  0.0   0.022  0.011     2\n",
      "334  종로구    덕성여자중학교  사립  0.0   0.023  0.023     2\n",
      "414  노원구    한국삼육중학교  사립  0.0   0.024  0.010     2\n",
      "\n",
      "\n",
      "* key:  9\n",
      "* number:  5\n",
      "      지역      학교명  유형  과학고  외고_국제고    자사고  type\n",
      "66   송파구  영파여자중학교  사립  0.0   0.010  0.010     2\n",
      "162  중랑구  영란여자중학교  사립  0.0   0.011  0.011     2\n",
      "234  도봉구  정의여자중학교  사립  0.0   0.010  0.005     2\n",
      "339  용산구  보성여자중학교  사립  0.0   0.007  0.013     2\n",
      "344  용산구  신광여자중학교  사립  0.0   0.009  0.017     2\n",
      "\n",
      "\n",
      "* key:  10\n",
      "* number:  5\n",
      "      지역        학교명  유형  과학고  외고_국제고  자사고  type\n",
      "384  종로구      서울농학교  국립  0.0     0.0  0.0     1\n",
      "385  마포구     한국우진학교  국립  0.0     0.0  0.0     1\n",
      "386  종로구      서울맹학교  국립  0.0     0.0  0.0     1\n",
      "410  강남구    국립국악중학교  국립  0.0     0.0  0.0     1\n",
      "411  금천구  국립전통예술중학교  국립  0.0     0.0  0.0     1\n",
      "\n",
      "\n"
     ]
    }
   ],
   "source": [
    "for key, group in grouped2:\n",
    "    print('* key: ', key)\n",
    "    print('* number: ', len(group))\n",
    "    print(group.iloc[:, grouped2_cols].head())\n",
    "    print('\\n')"
   ]
  },
  {
   "cell_type": "code",
   "execution_count": 77,
   "metadata": {
    "ExecuteTime": {
     "end_time": "2020-12-27T10:37:47.240320Z",
     "start_time": "2020-12-27T10:37:47.225307Z"
    }
   },
   "outputs": [],
   "source": [
    "cluster2_map = folium.Map(location=[37.55, 126.98], tiles='Stamen Terrain',\n",
    "                        zoom_start=12)"
   ]
  },
  {
   "cell_type": "code",
   "execution_count": 78,
   "metadata": {
    "ExecuteTime": {
     "end_time": "2020-12-27T10:37:47.383451Z",
     "start_time": "2020-12-27T10:37:47.356426Z"
    }
   },
   "outputs": [],
   "source": [
    "for name, lat, lng, clus in zip(df.학교명, df.위도, df.경도, df.Cluster2):\n",
    "    folium.CircleMarker([lat, lng],\n",
    "                       radius=5,\n",
    "                       color=colors[clus],\n",
    "                       fill=True,\n",
    "                       fill_color=colors[clus],\n",
    "                       fill_opacity=0.7,\n",
    "                       popup=name).add_to(cluster2_map)"
   ]
  },
  {
   "cell_type": "markdown",
   "metadata": {},
   "source": [
    "### 지도를 html 파일로 저장하기"
   ]
  },
  {
   "cell_type": "code",
   "execution_count": 79,
   "metadata": {
    "ExecuteTime": {
     "end_time": "2020-12-27T10:37:47.910930Z",
     "start_time": "2020-12-27T10:37:47.645689Z"
    }
   },
   "outputs": [],
   "source": [
    "cluster2_map.save('./seoul_mschool_cluster2.html')"
   ]
  },
  {
   "cell_type": "markdown",
   "metadata": {},
   "source": [
    "### X3 데이터셋에 대하여 위 과정 반복(과학고, 외고_국제고)"
   ]
  },
  {
   "cell_type": "markdown",
   "metadata": {},
   "source": [
    "이번에는 DBSCAN 모형에 입력하는 속성을 2개로 줄여서 예측한다. 과학고와 외고 진학률 데이터만을 사용한다."
   ]
  },
  {
   "cell_type": "code",
   "execution_count": 80,
   "metadata": {
    "ExecuteTime": {
     "end_time": "2020-12-27T10:37:48.087090Z",
     "start_time": "2020-12-27T10:37:48.084087Z"
    }
   },
   "outputs": [],
   "source": [
    "columns_list3 = [9, 10]"
   ]
  },
  {
   "cell_type": "code",
   "execution_count": 81,
   "metadata": {
    "ExecuteTime": {
     "end_time": "2020-12-27T10:37:48.246235Z",
     "start_time": "2020-12-27T10:37:48.236225Z"
    },
    "scrolled": false
   },
   "outputs": [
    {
     "data": {
      "text/html": [
       "<div>\n",
       "<style scoped>\n",
       "    .dataframe tbody tr th:only-of-type {\n",
       "        vertical-align: middle;\n",
       "    }\n",
       "\n",
       "    .dataframe tbody tr th {\n",
       "        vertical-align: top;\n",
       "    }\n",
       "\n",
       "    .dataframe thead th {\n",
       "        text-align: right;\n",
       "    }\n",
       "</style>\n",
       "<table border=\"1\" class=\"dataframe\">\n",
       "  <thead>\n",
       "    <tr style=\"text-align: right;\">\n",
       "      <th></th>\n",
       "      <th>과학고</th>\n",
       "      <th>외고_국제고</th>\n",
       "    </tr>\n",
       "  </thead>\n",
       "  <tbody>\n",
       "    <tr>\n",
       "      <th>0</th>\n",
       "      <td>0.018</td>\n",
       "      <td>0.007</td>\n",
       "    </tr>\n",
       "    <tr>\n",
       "      <th>1</th>\n",
       "      <td>0.000</td>\n",
       "      <td>0.035</td>\n",
       "    </tr>\n",
       "    <tr>\n",
       "      <th>2</th>\n",
       "      <td>0.009</td>\n",
       "      <td>0.012</td>\n",
       "    </tr>\n",
       "    <tr>\n",
       "      <th>3</th>\n",
       "      <td>0.013</td>\n",
       "      <td>0.013</td>\n",
       "    </tr>\n",
       "    <tr>\n",
       "      <th>4</th>\n",
       "      <td>0.007</td>\n",
       "      <td>0.010</td>\n",
       "    </tr>\n",
       "    <tr>\n",
       "      <th>...</th>\n",
       "      <td>...</td>\n",
       "      <td>...</td>\n",
       "    </tr>\n",
       "    <tr>\n",
       "      <th>410</th>\n",
       "      <td>0.000</td>\n",
       "      <td>0.000</td>\n",
       "    </tr>\n",
       "    <tr>\n",
       "      <th>411</th>\n",
       "      <td>0.000</td>\n",
       "      <td>0.000</td>\n",
       "    </tr>\n",
       "    <tr>\n",
       "      <th>412</th>\n",
       "      <td>0.000</td>\n",
       "      <td>0.000</td>\n",
       "    </tr>\n",
       "    <tr>\n",
       "      <th>413</th>\n",
       "      <td>0.000</td>\n",
       "      <td>0.000</td>\n",
       "    </tr>\n",
       "    <tr>\n",
       "      <th>414</th>\n",
       "      <td>0.000</td>\n",
       "      <td>0.024</td>\n",
       "    </tr>\n",
       "  </tbody>\n",
       "</table>\n",
       "<p>415 rows × 2 columns</p>\n",
       "</div>"
      ],
      "text/plain": [
       "       과학고  외고_국제고\n",
       "0    0.018   0.007\n",
       "1    0.000   0.035\n",
       "2    0.009   0.012\n",
       "3    0.013   0.013\n",
       "4    0.007   0.010\n",
       "..     ...     ...\n",
       "410  0.000   0.000\n",
       "411  0.000   0.000\n",
       "412  0.000   0.000\n",
       "413  0.000   0.000\n",
       "414  0.000   0.024\n",
       "\n",
       "[415 rows x 2 columns]"
      ]
     },
     "execution_count": 81,
     "metadata": {},
     "output_type": "execute_result"
    }
   ],
   "source": [
    "X3 = df.iloc[:, columns_list3]\n",
    "X3"
   ]
  },
  {
   "cell_type": "code",
   "execution_count": 82,
   "metadata": {
    "ExecuteTime": {
     "end_time": "2020-12-27T10:37:48.390365Z",
     "start_time": "2020-12-27T10:37:48.384360Z"
    }
   },
   "outputs": [],
   "source": [
    "X3 = preprocessing.StandardScaler().fit(X3).transform(X3)"
   ]
  },
  {
   "cell_type": "code",
   "execution_count": 83,
   "metadata": {
    "ExecuteTime": {
     "end_time": "2020-12-27T10:37:48.549510Z",
     "start_time": "2020-12-27T10:37:48.534496Z"
    }
   },
   "outputs": [
    {
     "data": {
      "text/plain": [
       "DBSCAN(eps=0.2)"
      ]
     },
     "execution_count": 83,
     "metadata": {},
     "output_type": "execute_result"
    }
   ],
   "source": [
    "dbm3 = cluster.DBSCAN(eps=0.2, min_samples=5)\n",
    "dbm3.fit(X3)"
   ]
  },
  {
   "cell_type": "code",
   "execution_count": 84,
   "metadata": {
    "ExecuteTime": {
     "end_time": "2020-12-27T10:37:48.692640Z",
     "start_time": "2020-12-27T10:37:48.684633Z"
    }
   },
   "outputs": [],
   "source": [
    "df['Cluster3'] = dbm3.labels_"
   ]
  },
  {
   "cell_type": "code",
   "execution_count": 85,
   "metadata": {
    "ExecuteTime": {
     "end_time": "2020-12-27T10:37:48.851785Z",
     "start_time": "2020-12-27T10:37:48.834769Z"
    }
   },
   "outputs": [],
   "source": [
    "grouped3_cols = [0, 1, 3] + columns_list3\n",
    "grouped3 = df.groupby('Cluster3')"
   ]
  },
  {
   "cell_type": "code",
   "execution_count": 86,
   "metadata": {
    "ExecuteTime": {
     "end_time": "2020-12-27T10:37:49.011930Z",
     "start_time": "2020-12-27T10:37:48.985907Z"
    },
    "scrolled": true
   },
   "outputs": [
    {
     "name": "stdout",
     "output_type": "stream",
     "text": [
      "* key:  -1\n",
      "* number:  61\n",
      "    지역             학교명  유형    과학고  외고_국제고\n",
      "0  성북구  서울대학교사범대학부설중학교  국립  0.018   0.007\n",
      "3  강남구           개포중학교  공립  0.013   0.013\n",
      "6  강남구          압구정중학교  공립  0.015   0.036\n",
      "7  강남구  단국대학교사범대학부속중학교  사립  0.032   0.005\n",
      "8  강남구           대명중학교  공립  0.013   0.029\n",
      "\n",
      "\n",
      "* key:  0\n",
      "* number:  160\n",
      "     지역               학교명  유형  과학고  외고_국제고\n",
      "1   종로구  서울대학교사범대학부설여자중학교  국립  0.0   0.035\n",
      "13  서초구           동덕여자중학교  사립  0.0   0.022\n",
      "22  강남구             수서중학교  공립  0.0   0.019\n",
      "28  서초구             언남중학교  공립  0.0   0.015\n",
      "29  강남구             언북중학교  공립  0.0   0.007\n",
      "\n",
      "\n",
      "* key:  1\n",
      "* number:  111\n",
      "     지역    학교명  유형    과학고  외고_국제고\n",
      "2   강남구  개원중학교  공립  0.009   0.012\n",
      "4   서초구  경원중학교  공립  0.007   0.010\n",
      "5   강남구  구룡중학교  공립  0.007   0.007\n",
      "11  강남구  대치중학교  공립  0.007   0.024\n",
      "14  서초구  반포중학교  공립  0.010   0.013\n",
      "\n",
      "\n",
      "* key:  2\n",
      "* number:  50\n",
      "       지역    학교명  유형  과학고  외고_국제고\n",
      "46    강동구  동신중학교  사립  0.0     0.0\n",
      "103   양천구  신원중학교  공립  0.0     0.0\n",
      "118   구로구  개봉중학교  공립  0.0     0.0\n",
      "126  영등포구  대림중학교  공립  0.0     0.0\n",
      "160  동대문구  숭인중학교  공립  0.0     0.0\n",
      "\n",
      "\n",
      "* key:  3\n",
      "* number:  11\n",
      "       지역    학교명  유형    과학고  외고_국제고\n",
      "100   양천구  신남중학교  공립  0.007     0.0\n",
      "115   강서구  화곡중학교  사립  0.008     0.0\n",
      "151  동대문구  대광중학교  사립  0.005     0.0\n",
      "194   관악구  봉원중학교  공립  0.004     0.0\n",
      "209   노원구  광운중학교  사립  0.005     0.0\n",
      "\n",
      "\n",
      "* key:  4\n",
      "* number:  12\n",
      "     지역      학교명  유형    과학고  외고_국제고\n",
      "9   강남구    대왕중학교  공립  0.006   0.028\n",
      "27  강남구    신사중학교  공립  0.006   0.032\n",
      "69  송파구    오주중학교  공립  0.003   0.028\n",
      "72  송파구    잠실중학교  공립  0.007   0.030\n",
      "96  양천구  봉영여자중학교  사립  0.006   0.028\n",
      "\n",
      "\n",
      "* key:  5\n",
      "* number:  5\n",
      "      지역    학교명  유형    과학고  외고_국제고\n",
      "16   강남구  봉은중학교  공립  0.010   0.010\n",
      "85   강서구  덕원중학교  사립  0.010   0.010\n",
      "179  동작구  강현중학교  공립  0.011   0.011\n",
      "262  마포구  숭문중학교  사립  0.010   0.010\n",
      "366  마포구  상암중학교  공립  0.012   0.012\n",
      "\n",
      "\n",
      "* key:  6\n",
      "* number:  5\n",
      "       지역    학교명  유형    과학고  외고_국제고\n",
      "89    강서구  마포중학교  사립  0.015   0.010\n",
      "112   강서구  염창중학교  공립  0.015   0.009\n",
      "265  서대문구  신연중학교  공립  0.016   0.011\n",
      "287   광진구  광남중학교  공립  0.016   0.010\n",
      "359   관악구  구암중학교  공립  0.017   0.011\n",
      "\n",
      "\n"
     ]
    }
   ],
   "source": [
    "for key, group in grouped3:\n",
    "    print('* key: ', key)\n",
    "    print('* number: ', len(group))\n",
    "    print(group.iloc[:, grouped3_cols].head())\n",
    "    print('\\n')"
   ]
  },
  {
   "cell_type": "code",
   "execution_count": 87,
   "metadata": {
    "ExecuteTime": {
     "end_time": "2020-12-27T10:37:49.156061Z",
     "start_time": "2020-12-27T10:37:49.145051Z"
    }
   },
   "outputs": [],
   "source": [
    "cluster3_map = folium.Map(location=[37.55, 126.98], tiles='Stamen Terrain',\n",
    "                        zoom_start=12)"
   ]
  },
  {
   "cell_type": "code",
   "execution_count": 88,
   "metadata": {
    "ExecuteTime": {
     "end_time": "2020-12-27T10:37:49.329219Z",
     "start_time": "2020-12-27T10:37:49.295188Z"
    }
   },
   "outputs": [],
   "source": [
    "for name, lat, lng, clus in zip(df.학교명, df.위도, df.경도, df.Cluster3):\n",
    "    folium.CircleMarker([lat, lng],\n",
    "                       radius=5,\n",
    "                       color=colors[clus],\n",
    "                       fill=True,\n",
    "                       fill_color=colors[clus],\n",
    "                       fill_opacity=0.7,\n",
    "                       popup=name).add_to(cluster3_map)"
   ]
  },
  {
   "cell_type": "markdown",
   "metadata": {},
   "source": [
    "### 지도를 html 파일로 저장하기 "
   ]
  },
  {
   "cell_type": "code",
   "execution_count": 89,
   "metadata": {
    "ExecuteTime": {
     "end_time": "2020-12-27T10:37:49.857699Z",
     "start_time": "2020-12-27T10:37:49.594459Z"
    }
   },
   "outputs": [],
   "source": [
    "cluster3_map.save('./seoul_mschool_cluster3.html')"
   ]
  },
  {
   "cell_type": "code",
   "execution_count": 90,
   "metadata": {
    "ExecuteTime": {
     "end_time": "2020-12-27T10:38:23.904198Z",
     "start_time": "2020-12-27T10:38:23.875172Z"
    }
   },
   "outputs": [
    {
     "data": {
      "text/html": [
       "<div>\n",
       "<style scoped>\n",
       "    .dataframe tbody tr th:only-of-type {\n",
       "        vertical-align: middle;\n",
       "    }\n",
       "\n",
       "    .dataframe tbody tr th {\n",
       "        vertical-align: top;\n",
       "    }\n",
       "\n",
       "    .dataframe thead th {\n",
       "        text-align: right;\n",
       "    }\n",
       "</style>\n",
       "<table border=\"1\" class=\"dataframe\">\n",
       "  <thead>\n",
       "    <tr style=\"text-align: right;\">\n",
       "      <th></th>\n",
       "      <th>지역</th>\n",
       "      <th>학교명</th>\n",
       "      <th>코드</th>\n",
       "      <th>유형</th>\n",
       "      <th>주야</th>\n",
       "      <th>남학생수</th>\n",
       "      <th>여학생수</th>\n",
       "      <th>일반고</th>\n",
       "      <th>특성화고</th>\n",
       "      <th>과학고</th>\n",
       "      <th>...</th>\n",
       "      <th>미상</th>\n",
       "      <th>위도</th>\n",
       "      <th>경도</th>\n",
       "      <th>location</th>\n",
       "      <th>code</th>\n",
       "      <th>type</th>\n",
       "      <th>day</th>\n",
       "      <th>Cluster</th>\n",
       "      <th>Cluster2</th>\n",
       "      <th>Cluster3</th>\n",
       "    </tr>\n",
       "  </thead>\n",
       "  <tbody>\n",
       "    <tr>\n",
       "      <th>0</th>\n",
       "      <td>성북구</td>\n",
       "      <td>서울대학교사범대학부설중학교</td>\n",
       "      <td>3</td>\n",
       "      <td>국립</td>\n",
       "      <td>주간</td>\n",
       "      <td>277</td>\n",
       "      <td>0</td>\n",
       "      <td>0.585</td>\n",
       "      <td>0.148</td>\n",
       "      <td>0.018</td>\n",
       "      <td>...</td>\n",
       "      <td>0.000</td>\n",
       "      <td>37.594942</td>\n",
       "      <td>127.038909</td>\n",
       "      <td>16</td>\n",
       "      <td>0</td>\n",
       "      <td>1</td>\n",
       "      <td>0</td>\n",
       "      <td>-1</td>\n",
       "      <td>-1</td>\n",
       "      <td>-1</td>\n",
       "    </tr>\n",
       "    <tr>\n",
       "      <th>1</th>\n",
       "      <td>종로구</td>\n",
       "      <td>서울대학교사범대학부설여자중학교</td>\n",
       "      <td>3</td>\n",
       "      <td>국립</td>\n",
       "      <td>주간</td>\n",
       "      <td>0</td>\n",
       "      <td>256</td>\n",
       "      <td>0.680</td>\n",
       "      <td>0.199</td>\n",
       "      <td>0.000</td>\n",
       "      <td>...</td>\n",
       "      <td>0.000</td>\n",
       "      <td>37.577473</td>\n",
       "      <td>127.003857</td>\n",
       "      <td>22</td>\n",
       "      <td>0</td>\n",
       "      <td>1</td>\n",
       "      <td>0</td>\n",
       "      <td>-1</td>\n",
       "      <td>-1</td>\n",
       "      <td>0</td>\n",
       "    </tr>\n",
       "    <tr>\n",
       "      <th>2</th>\n",
       "      <td>강남구</td>\n",
       "      <td>개원중학교</td>\n",
       "      <td>3</td>\n",
       "      <td>공립</td>\n",
       "      <td>주간</td>\n",
       "      <td>170</td>\n",
       "      <td>152</td>\n",
       "      <td>0.817</td>\n",
       "      <td>0.047</td>\n",
       "      <td>0.009</td>\n",
       "      <td>...</td>\n",
       "      <td>0.003</td>\n",
       "      <td>37.491637</td>\n",
       "      <td>127.071744</td>\n",
       "      <td>0</td>\n",
       "      <td>0</td>\n",
       "      <td>0</td>\n",
       "      <td>0</td>\n",
       "      <td>-1</td>\n",
       "      <td>-1</td>\n",
       "      <td>1</td>\n",
       "    </tr>\n",
       "    <tr>\n",
       "      <th>3</th>\n",
       "      <td>강남구</td>\n",
       "      <td>개포중학교</td>\n",
       "      <td>3</td>\n",
       "      <td>공립</td>\n",
       "      <td>주간</td>\n",
       "      <td>83</td>\n",
       "      <td>72</td>\n",
       "      <td>0.755</td>\n",
       "      <td>0.097</td>\n",
       "      <td>0.013</td>\n",
       "      <td>...</td>\n",
       "      <td>0.000</td>\n",
       "      <td>37.480439</td>\n",
       "      <td>127.062201</td>\n",
       "      <td>0</td>\n",
       "      <td>0</td>\n",
       "      <td>0</td>\n",
       "      <td>0</td>\n",
       "      <td>-1</td>\n",
       "      <td>-1</td>\n",
       "      <td>-1</td>\n",
       "    </tr>\n",
       "    <tr>\n",
       "      <th>4</th>\n",
       "      <td>서초구</td>\n",
       "      <td>경원중학교</td>\n",
       "      <td>3</td>\n",
       "      <td>공립</td>\n",
       "      <td>주간</td>\n",
       "      <td>199</td>\n",
       "      <td>212</td>\n",
       "      <td>0.669</td>\n",
       "      <td>0.017</td>\n",
       "      <td>0.007</td>\n",
       "      <td>...</td>\n",
       "      <td>0.000</td>\n",
       "      <td>37.510750</td>\n",
       "      <td>127.008900</td>\n",
       "      <td>14</td>\n",
       "      <td>0</td>\n",
       "      <td>0</td>\n",
       "      <td>0</td>\n",
       "      <td>-1</td>\n",
       "      <td>-1</td>\n",
       "      <td>1</td>\n",
       "    </tr>\n",
       "    <tr>\n",
       "      <th>...</th>\n",
       "      <td>...</td>\n",
       "      <td>...</td>\n",
       "      <td>...</td>\n",
       "      <td>...</td>\n",
       "      <td>...</td>\n",
       "      <td>...</td>\n",
       "      <td>...</td>\n",
       "      <td>...</td>\n",
       "      <td>...</td>\n",
       "      <td>...</td>\n",
       "      <td>...</td>\n",
       "      <td>...</td>\n",
       "      <td>...</td>\n",
       "      <td>...</td>\n",
       "      <td>...</td>\n",
       "      <td>...</td>\n",
       "      <td>...</td>\n",
       "      <td>...</td>\n",
       "      <td>...</td>\n",
       "      <td>...</td>\n",
       "      <td>...</td>\n",
       "    </tr>\n",
       "    <tr>\n",
       "      <th>410</th>\n",
       "      <td>강남구</td>\n",
       "      <td>국립국악중학교</td>\n",
       "      <td>9</td>\n",
       "      <td>국립</td>\n",
       "      <td>주간</td>\n",
       "      <td>9</td>\n",
       "      <td>91</td>\n",
       "      <td>0.060</td>\n",
       "      <td>0.000</td>\n",
       "      <td>0.000</td>\n",
       "      <td>...</td>\n",
       "      <td>0.000</td>\n",
       "      <td>37.476381</td>\n",
       "      <td>127.051355</td>\n",
       "      <td>0</td>\n",
       "      <td>2</td>\n",
       "      <td>1</td>\n",
       "      <td>0</td>\n",
       "      <td>1</td>\n",
       "      <td>10</td>\n",
       "      <td>2</td>\n",
       "    </tr>\n",
       "    <tr>\n",
       "      <th>411</th>\n",
       "      <td>금천구</td>\n",
       "      <td>국립전통예술중학교</td>\n",
       "      <td>9</td>\n",
       "      <td>국립</td>\n",
       "      <td>주간</td>\n",
       "      <td>14</td>\n",
       "      <td>42</td>\n",
       "      <td>0.107</td>\n",
       "      <td>0.000</td>\n",
       "      <td>0.000</td>\n",
       "      <td>...</td>\n",
       "      <td>0.018</td>\n",
       "      <td>37.446354</td>\n",
       "      <td>126.906424</td>\n",
       "      <td>7</td>\n",
       "      <td>2</td>\n",
       "      <td>1</td>\n",
       "      <td>0</td>\n",
       "      <td>1</td>\n",
       "      <td>10</td>\n",
       "      <td>2</td>\n",
       "    </tr>\n",
       "    <tr>\n",
       "      <th>412</th>\n",
       "      <td>광진구</td>\n",
       "      <td>선화예술학교</td>\n",
       "      <td>9</td>\n",
       "      <td>사립</td>\n",
       "      <td>주간</td>\n",
       "      <td>33</td>\n",
       "      <td>241</td>\n",
       "      <td>0.102</td>\n",
       "      <td>0.000</td>\n",
       "      <td>0.000</td>\n",
       "      <td>...</td>\n",
       "      <td>0.036</td>\n",
       "      <td>37.549642</td>\n",
       "      <td>127.087737</td>\n",
       "      <td>5</td>\n",
       "      <td>2</td>\n",
       "      <td>2</td>\n",
       "      <td>0</td>\n",
       "      <td>1</td>\n",
       "      <td>5</td>\n",
       "      <td>2</td>\n",
       "    </tr>\n",
       "    <tr>\n",
       "      <th>413</th>\n",
       "      <td>중구</td>\n",
       "      <td>예원학교</td>\n",
       "      <td>9</td>\n",
       "      <td>사립</td>\n",
       "      <td>주간</td>\n",
       "      <td>31</td>\n",
       "      <td>258</td>\n",
       "      <td>0.170</td>\n",
       "      <td>0.000</td>\n",
       "      <td>0.000</td>\n",
       "      <td>...</td>\n",
       "      <td>0.031</td>\n",
       "      <td>37.566951</td>\n",
       "      <td>126.971553</td>\n",
       "      <td>23</td>\n",
       "      <td>2</td>\n",
       "      <td>2</td>\n",
       "      <td>0</td>\n",
       "      <td>1</td>\n",
       "      <td>5</td>\n",
       "      <td>2</td>\n",
       "    </tr>\n",
       "    <tr>\n",
       "      <th>414</th>\n",
       "      <td>노원구</td>\n",
       "      <td>한국삼육중학교</td>\n",
       "      <td>9</td>\n",
       "      <td>사립</td>\n",
       "      <td>주간</td>\n",
       "      <td>105</td>\n",
       "      <td>102</td>\n",
       "      <td>0.908</td>\n",
       "      <td>0.019</td>\n",
       "      <td>0.000</td>\n",
       "      <td>...</td>\n",
       "      <td>0.000</td>\n",
       "      <td>37.641056</td>\n",
       "      <td>127.108344</td>\n",
       "      <td>8</td>\n",
       "      <td>2</td>\n",
       "      <td>2</td>\n",
       "      <td>0</td>\n",
       "      <td>0</td>\n",
       "      <td>8</td>\n",
       "      <td>0</td>\n",
       "    </tr>\n",
       "  </tbody>\n",
       "</table>\n",
       "<p>415 rows × 27 columns</p>\n",
       "</div>"
      ],
      "text/plain": [
       "      지역               학교명  코드  유형  주야  남학생수  여학생수    일반고   특성화고    과학고  ...  \\\n",
       "0    성북구    서울대학교사범대학부설중학교   3  국립  주간   277     0  0.585  0.148  0.018  ...   \n",
       "1    종로구  서울대학교사범대학부설여자중학교   3  국립  주간     0   256  0.680  0.199  0.000  ...   \n",
       "2    강남구             개원중학교   3  공립  주간   170   152  0.817  0.047  0.009  ...   \n",
       "3    강남구             개포중학교   3  공립  주간    83    72  0.755  0.097  0.013  ...   \n",
       "4    서초구             경원중학교   3  공립  주간   199   212  0.669  0.017  0.007  ...   \n",
       "..   ...               ...  ..  ..  ..   ...   ...    ...    ...    ...  ...   \n",
       "410  강남구           국립국악중학교   9  국립  주간     9    91  0.060  0.000  0.000  ...   \n",
       "411  금천구         국립전통예술중학교   9  국립  주간    14    42  0.107  0.000  0.000  ...   \n",
       "412  광진구            선화예술학교   9  사립  주간    33   241  0.102  0.000  0.000  ...   \n",
       "413   중구              예원학교   9  사립  주간    31   258  0.170  0.000  0.000  ...   \n",
       "414  노원구           한국삼육중학교   9  사립  주간   105   102  0.908  0.019  0.000  ...   \n",
       "\n",
       "        미상         위도          경도  location  code  type  day  Cluster  \\\n",
       "0    0.000  37.594942  127.038909        16     0     1    0       -1   \n",
       "1    0.000  37.577473  127.003857        22     0     1    0       -1   \n",
       "2    0.003  37.491637  127.071744         0     0     0    0       -1   \n",
       "3    0.000  37.480439  127.062201         0     0     0    0       -1   \n",
       "4    0.000  37.510750  127.008900        14     0     0    0       -1   \n",
       "..     ...        ...         ...       ...   ...   ...  ...      ...   \n",
       "410  0.000  37.476381  127.051355         0     2     1    0        1   \n",
       "411  0.018  37.446354  126.906424         7     2     1    0        1   \n",
       "412  0.036  37.549642  127.087737         5     2     2    0        1   \n",
       "413  0.031  37.566951  126.971553        23     2     2    0        1   \n",
       "414  0.000  37.641056  127.108344         8     2     2    0        0   \n",
       "\n",
       "     Cluster2  Cluster3  \n",
       "0          -1        -1  \n",
       "1          -1         0  \n",
       "2          -1         1  \n",
       "3          -1        -1  \n",
       "4          -1         1  \n",
       "..        ...       ...  \n",
       "410        10         2  \n",
       "411        10         2  \n",
       "412         5         2  \n",
       "413         5         2  \n",
       "414         8         0  \n",
       "\n",
       "[415 rows x 27 columns]"
      ]
     },
     "execution_count": 90,
     "metadata": {},
     "output_type": "execute_result"
    }
   ],
   "source": [
    "df"
   ]
  }
 ],
 "metadata": {
  "kernelspec": {
   "display_name": "Python 3",
   "language": "python",
   "name": "python3"
  },
  "language_info": {
   "codemirror_mode": {
    "name": "ipython",
    "version": 3
   },
   "file_extension": ".py",
   "mimetype": "text/x-python",
   "name": "python",
   "nbconvert_exporter": "python",
   "pygments_lexer": "ipython3",
   "version": "3.8.3"
  },
  "toc": {
   "base_numbering": 1,
   "nav_menu": {},
   "number_sections": false,
   "sideBar": true,
   "skip_h1_title": false,
   "title_cell": "Table of Contents",
   "title_sidebar": "Contents",
   "toc_cell": false,
   "toc_position": {},
   "toc_section_display": true,
   "toc_window_display": false
  },
  "varInspector": {
   "cols": {
    "lenName": 16,
    "lenType": 16,
    "lenVar": 40
   },
   "kernels_config": {
    "python": {
     "delete_cmd_postfix": "",
     "delete_cmd_prefix": "del ",
     "library": "var_list.py",
     "varRefreshCmd": "print(var_dic_list())"
    },
    "r": {
     "delete_cmd_postfix": ") ",
     "delete_cmd_prefix": "rm(",
     "library": "var_list.r",
     "varRefreshCmd": "cat(var_dic_list()) "
    }
   },
   "types_to_exclude": [
    "module",
    "function",
    "builtin_function_or_method",
    "instance",
    "_Feature"
   ],
   "window_display": false
  }
 },
 "nbformat": 4,
 "nbformat_minor": 4
}
