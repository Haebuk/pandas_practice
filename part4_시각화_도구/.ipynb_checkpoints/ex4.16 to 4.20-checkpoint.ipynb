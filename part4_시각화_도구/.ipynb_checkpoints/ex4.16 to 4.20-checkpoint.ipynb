{
 "cells": [
  {
   "cell_type": "markdown",
   "metadata": {},
   "source": [
    "# 세로형 막대 그래프 "
   ]
  },
  {
   "cell_type": "code",
   "execution_count": 1,
   "metadata": {},
   "outputs": [],
   "source": [
    "import matplotlib.pyplot as plt\n",
    "import pandas as pd\n",
    "%matplotlib inline"
   ]
  },
  {
   "cell_type": "code",
   "execution_count": 2,
   "metadata": {},
   "outputs": [
    {
     "data": {
      "text/html": [
       "<div>\n",
       "<style scoped>\n",
       "    .dataframe tbody tr th:only-of-type {\n",
       "        vertical-align: middle;\n",
       "    }\n",
       "\n",
       "    .dataframe tbody tr th {\n",
       "        vertical-align: top;\n",
       "    }\n",
       "\n",
       "    .dataframe thead th {\n",
       "        text-align: right;\n",
       "    }\n",
       "</style>\n",
       "<table border=\"1\" class=\"dataframe\">\n",
       "  <thead>\n",
       "    <tr style=\"text-align: right;\">\n",
       "      <th></th>\n",
       "      <th>전출지별</th>\n",
       "      <th>전입지별</th>\n",
       "      <th>1970</th>\n",
       "      <th>1971</th>\n",
       "      <th>1972</th>\n",
       "      <th>1973</th>\n",
       "      <th>1974</th>\n",
       "      <th>1975</th>\n",
       "      <th>1976</th>\n",
       "      <th>1977</th>\n",
       "      <th>...</th>\n",
       "      <th>2008</th>\n",
       "      <th>2009</th>\n",
       "      <th>2010</th>\n",
       "      <th>2011</th>\n",
       "      <th>2012</th>\n",
       "      <th>2013</th>\n",
       "      <th>2014</th>\n",
       "      <th>2015</th>\n",
       "      <th>2016</th>\n",
       "      <th>2017</th>\n",
       "    </tr>\n",
       "  </thead>\n",
       "  <tbody>\n",
       "    <tr>\n",
       "      <th>0</th>\n",
       "      <td>전출지별</td>\n",
       "      <td>전입지별</td>\n",
       "      <td>이동자수 (명)</td>\n",
       "      <td>이동자수 (명)</td>\n",
       "      <td>이동자수 (명)</td>\n",
       "      <td>이동자수 (명)</td>\n",
       "      <td>이동자수 (명)</td>\n",
       "      <td>이동자수 (명)</td>\n",
       "      <td>이동자수 (명)</td>\n",
       "      <td>이동자수 (명)</td>\n",
       "      <td>...</td>\n",
       "      <td>이동자수 (명)</td>\n",
       "      <td>이동자수 (명)</td>\n",
       "      <td>이동자수 (명)</td>\n",
       "      <td>이동자수 (명)</td>\n",
       "      <td>이동자수 (명)</td>\n",
       "      <td>이동자수 (명)</td>\n",
       "      <td>이동자수 (명)</td>\n",
       "      <td>이동자수 (명)</td>\n",
       "      <td>이동자수 (명)</td>\n",
       "      <td>이동자수 (명)</td>\n",
       "    </tr>\n",
       "    <tr>\n",
       "      <th>1</th>\n",
       "      <td>전국</td>\n",
       "      <td>전국</td>\n",
       "      <td>4046536</td>\n",
       "      <td>4210164</td>\n",
       "      <td>3687938</td>\n",
       "      <td>4860418</td>\n",
       "      <td>5297969</td>\n",
       "      <td>9011440</td>\n",
       "      <td>6773250</td>\n",
       "      <td>7397623</td>\n",
       "      <td>...</td>\n",
       "      <td>8808256</td>\n",
       "      <td>8487275</td>\n",
       "      <td>8226594</td>\n",
       "      <td>8127195</td>\n",
       "      <td>7506691</td>\n",
       "      <td>7411784</td>\n",
       "      <td>7629098</td>\n",
       "      <td>7755286</td>\n",
       "      <td>7378430</td>\n",
       "      <td>7154226</td>\n",
       "    </tr>\n",
       "    <tr>\n",
       "      <th>2</th>\n",
       "      <td>전국</td>\n",
       "      <td>서울특별시</td>\n",
       "      <td>1742813</td>\n",
       "      <td>1671705</td>\n",
       "      <td>1349333</td>\n",
       "      <td>1831858</td>\n",
       "      <td>2050392</td>\n",
       "      <td>3396662</td>\n",
       "      <td>2756510</td>\n",
       "      <td>2893403</td>\n",
       "      <td>...</td>\n",
       "      <td>2025358</td>\n",
       "      <td>1873188</td>\n",
       "      <td>1733015</td>\n",
       "      <td>1721748</td>\n",
       "      <td>1555281</td>\n",
       "      <td>1520090</td>\n",
       "      <td>1573594</td>\n",
       "      <td>1589431</td>\n",
       "      <td>1515602</td>\n",
       "      <td>1472937</td>\n",
       "    </tr>\n",
       "    <tr>\n",
       "      <th>3</th>\n",
       "      <td>전국</td>\n",
       "      <td>부산광역시</td>\n",
       "      <td>448577</td>\n",
       "      <td>389797</td>\n",
       "      <td>362202</td>\n",
       "      <td>482061</td>\n",
       "      <td>680984</td>\n",
       "      <td>805979</td>\n",
       "      <td>724664</td>\n",
       "      <td>785117</td>\n",
       "      <td>...</td>\n",
       "      <td>514502</td>\n",
       "      <td>519310</td>\n",
       "      <td>519334</td>\n",
       "      <td>508043</td>\n",
       "      <td>461042</td>\n",
       "      <td>478451</td>\n",
       "      <td>485710</td>\n",
       "      <td>507031</td>\n",
       "      <td>459015</td>\n",
       "      <td>439073</td>\n",
       "    </tr>\n",
       "    <tr>\n",
       "      <th>4</th>\n",
       "      <td>전국</td>\n",
       "      <td>대구광역시</td>\n",
       "      <td>-</td>\n",
       "      <td>-</td>\n",
       "      <td>-</td>\n",
       "      <td>-</td>\n",
       "      <td>-</td>\n",
       "      <td>-</td>\n",
       "      <td>-</td>\n",
       "      <td>-</td>\n",
       "      <td>...</td>\n",
       "      <td>409938</td>\n",
       "      <td>398626</td>\n",
       "      <td>370817</td>\n",
       "      <td>370563</td>\n",
       "      <td>348642</td>\n",
       "      <td>351873</td>\n",
       "      <td>350213</td>\n",
       "      <td>351424</td>\n",
       "      <td>328228</td>\n",
       "      <td>321182</td>\n",
       "    </tr>\n",
       "  </tbody>\n",
       "</table>\n",
       "<p>5 rows × 50 columns</p>\n",
       "</div>"
      ],
      "text/plain": [
       "   전출지별   전입지별      1970      1971      1972      1973      1974      1975  \\\n",
       "0  전출지별   전입지별  이동자수 (명)  이동자수 (명)  이동자수 (명)  이동자수 (명)  이동자수 (명)  이동자수 (명)   \n",
       "1    전국     전국   4046536   4210164   3687938   4860418   5297969   9011440   \n",
       "2    전국  서울특별시   1742813   1671705   1349333   1831858   2050392   3396662   \n",
       "3    전국  부산광역시    448577    389797    362202    482061    680984    805979   \n",
       "4    전국  대구광역시         -         -         -         -         -         -   \n",
       "\n",
       "       1976      1977  ...      2008      2009      2010      2011      2012  \\\n",
       "0  이동자수 (명)  이동자수 (명)  ...  이동자수 (명)  이동자수 (명)  이동자수 (명)  이동자수 (명)  이동자수 (명)   \n",
       "1   6773250   7397623  ...   8808256   8487275   8226594   8127195   7506691   \n",
       "2   2756510   2893403  ...   2025358   1873188   1733015   1721748   1555281   \n",
       "3    724664    785117  ...    514502    519310    519334    508043    461042   \n",
       "4         -         -  ...    409938    398626    370817    370563    348642   \n",
       "\n",
       "       2013      2014      2015      2016      2017  \n",
       "0  이동자수 (명)  이동자수 (명)  이동자수 (명)  이동자수 (명)  이동자수 (명)  \n",
       "1   7411784   7629098   7755286   7378430   7154226  \n",
       "2   1520090   1573594   1589431   1515602   1472937  \n",
       "3    478451    485710    507031    459015    439073  \n",
       "4    351873    350213    351424    328228    321182  \n",
       "\n",
       "[5 rows x 50 columns]"
      ]
     },
     "execution_count": 2,
     "metadata": {},
     "output_type": "execute_result"
    }
   ],
   "source": [
    "df = pd.read_excel('시도별 전출입 인구수.xlsx', fillna = 0, header = 0)\n",
    "df = df.fillna(method= 'ffill')\n",
    "df.head()"
   ]
  },
  {
   "cell_type": "code",
   "execution_count": 3,
   "metadata": {},
   "outputs": [
    {
     "data": {
      "text/html": [
       "<div>\n",
       "<style scoped>\n",
       "    .dataframe tbody tr th:only-of-type {\n",
       "        vertical-align: middle;\n",
       "    }\n",
       "\n",
       "    .dataframe tbody tr th {\n",
       "        vertical-align: top;\n",
       "    }\n",
       "\n",
       "    .dataframe thead th {\n",
       "        text-align: right;\n",
       "    }\n",
       "</style>\n",
       "<table border=\"1\" class=\"dataframe\">\n",
       "  <thead>\n",
       "    <tr style=\"text-align: right;\">\n",
       "      <th></th>\n",
       "      <th>1970</th>\n",
       "      <th>1971</th>\n",
       "      <th>1972</th>\n",
       "      <th>1973</th>\n",
       "      <th>1974</th>\n",
       "      <th>1975</th>\n",
       "      <th>1976</th>\n",
       "      <th>1977</th>\n",
       "      <th>1978</th>\n",
       "      <th>1979</th>\n",
       "      <th>...</th>\n",
       "      <th>2008</th>\n",
       "      <th>2009</th>\n",
       "      <th>2010</th>\n",
       "      <th>2011</th>\n",
       "      <th>2012</th>\n",
       "      <th>2013</th>\n",
       "      <th>2014</th>\n",
       "      <th>2015</th>\n",
       "      <th>2016</th>\n",
       "      <th>2017</th>\n",
       "    </tr>\n",
       "    <tr>\n",
       "      <th>전입지</th>\n",
       "      <th></th>\n",
       "      <th></th>\n",
       "      <th></th>\n",
       "      <th></th>\n",
       "      <th></th>\n",
       "      <th></th>\n",
       "      <th></th>\n",
       "      <th></th>\n",
       "      <th></th>\n",
       "      <th></th>\n",
       "      <th></th>\n",
       "      <th></th>\n",
       "      <th></th>\n",
       "      <th></th>\n",
       "      <th></th>\n",
       "      <th></th>\n",
       "      <th></th>\n",
       "      <th></th>\n",
       "      <th></th>\n",
       "      <th></th>\n",
       "      <th></th>\n",
       "    </tr>\n",
       "  </thead>\n",
       "  <tbody>\n",
       "    <tr>\n",
       "      <th>전국</th>\n",
       "      <td>1448985</td>\n",
       "      <td>1419016</td>\n",
       "      <td>1210559</td>\n",
       "      <td>1647268</td>\n",
       "      <td>1819660</td>\n",
       "      <td>2937093</td>\n",
       "      <td>2495620</td>\n",
       "      <td>2678007</td>\n",
       "      <td>3028911</td>\n",
       "      <td>2441242</td>\n",
       "      <td>...</td>\n",
       "      <td>2083352</td>\n",
       "      <td>1925452</td>\n",
       "      <td>1848038</td>\n",
       "      <td>1834806</td>\n",
       "      <td>1658928</td>\n",
       "      <td>1620640</td>\n",
       "      <td>1661425</td>\n",
       "      <td>1726687</td>\n",
       "      <td>1655859</td>\n",
       "      <td>1571423</td>\n",
       "    </tr>\n",
       "    <tr>\n",
       "      <th>부산광역시</th>\n",
       "      <td>11568</td>\n",
       "      <td>11130</td>\n",
       "      <td>11768</td>\n",
       "      <td>16307</td>\n",
       "      <td>22220</td>\n",
       "      <td>27515</td>\n",
       "      <td>23732</td>\n",
       "      <td>27213</td>\n",
       "      <td>29856</td>\n",
       "      <td>28542</td>\n",
       "      <td>...</td>\n",
       "      <td>17353</td>\n",
       "      <td>17738</td>\n",
       "      <td>17418</td>\n",
       "      <td>18816</td>\n",
       "      <td>16135</td>\n",
       "      <td>16153</td>\n",
       "      <td>17320</td>\n",
       "      <td>17009</td>\n",
       "      <td>15062</td>\n",
       "      <td>14484</td>\n",
       "    </tr>\n",
       "    <tr>\n",
       "      <th>대구광역시</th>\n",
       "      <td>-</td>\n",
       "      <td>-</td>\n",
       "      <td>-</td>\n",
       "      <td>-</td>\n",
       "      <td>-</td>\n",
       "      <td>-</td>\n",
       "      <td>-</td>\n",
       "      <td>-</td>\n",
       "      <td>-</td>\n",
       "      <td>-</td>\n",
       "      <td>...</td>\n",
       "      <td>9720</td>\n",
       "      <td>10464</td>\n",
       "      <td>10277</td>\n",
       "      <td>10397</td>\n",
       "      <td>10135</td>\n",
       "      <td>10631</td>\n",
       "      <td>10062</td>\n",
       "      <td>10191</td>\n",
       "      <td>9623</td>\n",
       "      <td>8891</td>\n",
       "    </tr>\n",
       "    <tr>\n",
       "      <th>인천광역시</th>\n",
       "      <td>-</td>\n",
       "      <td>-</td>\n",
       "      <td>-</td>\n",
       "      <td>-</td>\n",
       "      <td>-</td>\n",
       "      <td>-</td>\n",
       "      <td>-</td>\n",
       "      <td>-</td>\n",
       "      <td>-</td>\n",
       "      <td>-</td>\n",
       "      <td>...</td>\n",
       "      <td>50493</td>\n",
       "      <td>45392</td>\n",
       "      <td>46082</td>\n",
       "      <td>51641</td>\n",
       "      <td>49640</td>\n",
       "      <td>47424</td>\n",
       "      <td>43212</td>\n",
       "      <td>44915</td>\n",
       "      <td>43745</td>\n",
       "      <td>40485</td>\n",
       "    </tr>\n",
       "    <tr>\n",
       "      <th>광주광역시</th>\n",
       "      <td>-</td>\n",
       "      <td>-</td>\n",
       "      <td>-</td>\n",
       "      <td>-</td>\n",
       "      <td>-</td>\n",
       "      <td>-</td>\n",
       "      <td>-</td>\n",
       "      <td>-</td>\n",
       "      <td>-</td>\n",
       "      <td>-</td>\n",
       "      <td>...</td>\n",
       "      <td>10846</td>\n",
       "      <td>11725</td>\n",
       "      <td>11095</td>\n",
       "      <td>10587</td>\n",
       "      <td>10154</td>\n",
       "      <td>9129</td>\n",
       "      <td>9759</td>\n",
       "      <td>9216</td>\n",
       "      <td>8354</td>\n",
       "      <td>7932</td>\n",
       "    </tr>\n",
       "  </tbody>\n",
       "</table>\n",
       "<p>5 rows × 48 columns</p>\n",
       "</div>"
      ],
      "text/plain": [
       "          1970     1971     1972     1973     1974     1975     1976     1977  \\\n",
       "전입지                                                                             \n",
       "전국     1448985  1419016  1210559  1647268  1819660  2937093  2495620  2678007   \n",
       "부산광역시    11568    11130    11768    16307    22220    27515    23732    27213   \n",
       "대구광역시        -        -        -        -        -        -        -        -   \n",
       "인천광역시        -        -        -        -        -        -        -        -   \n",
       "광주광역시        -        -        -        -        -        -        -        -   \n",
       "\n",
       "          1978     1979  ...     2008     2009     2010     2011     2012  \\\n",
       "전입지                      ...                                                \n",
       "전국     3028911  2441242  ...  2083352  1925452  1848038  1834806  1658928   \n",
       "부산광역시    29856    28542  ...    17353    17738    17418    18816    16135   \n",
       "대구광역시        -        -  ...     9720    10464    10277    10397    10135   \n",
       "인천광역시        -        -  ...    50493    45392    46082    51641    49640   \n",
       "광주광역시        -        -  ...    10846    11725    11095    10587    10154   \n",
       "\n",
       "          2013     2014     2015     2016     2017  \n",
       "전입지                                                 \n",
       "전국     1620640  1661425  1726687  1655859  1571423  \n",
       "부산광역시    16153    17320    17009    15062    14484  \n",
       "대구광역시    10631    10062    10191     9623     8891  \n",
       "인천광역시    47424    43212    44915    43745    40485  \n",
       "광주광역시     9129     9759     9216     8354     7932  \n",
       "\n",
       "[5 rows x 48 columns]"
      ]
     },
     "execution_count": 3,
     "metadata": {},
     "output_type": "execute_result"
    }
   ],
   "source": [
    "df_seoul = df[(df['전출지별'] == '서울특별시') & (df['전입지별'] != '서울특별시')]\n",
    "df_seoul = df_seoul.drop(['전출지별'], axis = 1)\n",
    "df_seoul.rename({'전입지별': '전입지'},axis= 1, inplace= True)\n",
    "df_seoul.set_index('전입지', inplace= True)\n",
    "df_seoul.head()"
   ]
  },
  {
   "cell_type": "code",
   "execution_count": 4,
   "metadata": {},
   "outputs": [],
   "source": [
    "sr_one = df_seoul.loc['경기도']"
   ]
  },
  {
   "cell_type": "markdown",
   "metadata": {},
   "source": [
    "### 서울에서 '충청남도', '경상북도', '강원도', '전라남도'로 이동한 인구 데이터 값만 선택 "
   ]
  },
  {
   "cell_type": "code",
   "execution_count": 5,
   "metadata": {},
   "outputs": [],
   "source": [
    "col_years = list(map(str, range(2010, 2018)))\n",
    "df_4 = df_seoul.loc[['충청남도', '경상북도', '강원도', '전라남도'], col_years]\n",
    "df_4 = df_4.transpose()"
   ]
  },
  {
   "cell_type": "markdown",
   "metadata": {},
   "source": [
    "### 스타일 서식 지정 "
   ]
  },
  {
   "cell_type": "code",
   "execution_count": 6,
   "metadata": {},
   "outputs": [],
   "source": [
    "plt.style.use('ggplot')"
   ]
  },
  {
   "cell_type": "markdown",
   "metadata": {},
   "source": [
    "### 데이터프레임의 인덱스를 정수형으로 변경(x축 눈금 라벨 표시) "
   ]
  },
  {
   "cell_type": "code",
   "execution_count": 7,
   "metadata": {},
   "outputs": [],
   "source": [
    "df_4.index = df_4.index.map(int)"
   ]
  },
  {
   "cell_type": "markdown",
   "metadata": {},
   "source": [
    "### 막대 그래프 그리기 "
   ]
  },
  {
   "cell_type": "code",
   "execution_count": 8,
   "metadata": {},
   "outputs": [
    {
     "data": {
      "text/plain": [
       "<matplotlib.legend.Legend at 0x7a060b8>"
      ]
     },
     "execution_count": 8,
     "metadata": {},
     "output_type": "execute_result"
    },
    {
     "data": {
      "image/png": "[encoded data removed]",
      "text/plain": [
       "<Figure size 1440x720 with 1 Axes>"
      ]
     },
     "metadata": {},
     "output_type": "display_data"
    }
   ],
   "source": [
    "df_4.plot(kind= 'bar', figsize= (20, 10), width= 0.7,\n",
    "         color= ['orange', 'green', 'skyblue', 'blue'])\n",
    "plt.title('서울 -> 타시도 인구 이동', size= 30)\n",
    "plt.ylabel('이동 인구 수', size= 20)\n",
    "plt.xlabel('기간', size= 20)\n",
    "plt.ylim(5000, 30000)\n",
    "plt.legend(loc = 'best', fontsize= 20)"
   ]
  },
  {
   "cell_type": "markdown",
   "metadata": {},
   "source": [
    "# 가로형 막대 그래프 "
   ]
  },
  {
   "cell_type": "markdown",
   "metadata": {},
   "source": [
    "### 서울에서 '충청남도', '경상북도', '강원도', '전라남도'로 이동한 데이터 값만 선택"
   ]
  },
  {
   "cell_type": "code",
   "execution_count": 9,
   "metadata": {},
   "outputs": [],
   "source": [
    "col_years = list(map(str, range(2010, 2018)))\n",
    "df_4 = df_seoul.loc[['충청남도', '경상북도', '강원도', '전라남도'], col_years]"
   ]
  },
  {
   "cell_type": "markdown",
   "metadata": {},
   "source": [
    "### 2010-2017년 이동 인구 수를 합계하여 새로운 열로 추가 "
   ]
  },
  {
   "cell_type": "code",
   "execution_count": 10,
   "metadata": {},
   "outputs": [],
   "source": [
    "df_4['합계'] = df_4.sum(axis= 1)"
   ]
  },
  {
   "cell_type": "markdown",
   "metadata": {},
   "source": [
    "### 가장 큰 값부터 정렬 "
   ]
  },
  {
   "cell_type": "code",
   "execution_count": 11,
   "metadata": {},
   "outputs": [],
   "source": [
    "df_total = df_4[['합계']].sort_values(by= '합계', ascending= True)"
   ]
  },
  {
   "cell_type": "markdown",
   "metadata": {},
   "source": [
    "### 스타일 서식 지정 "
   ]
  },
  {
   "cell_type": "code",
   "execution_count": 12,
   "metadata": {},
   "outputs": [],
   "source": [
    "plt.style.use('ggplot')"
   ]
  },
  {
   "cell_type": "markdown",
   "metadata": {},
   "source": [
    "### 수평 막대 그래프 그리기 "
   ]
  },
  {
   "cell_type": "code",
   "execution_count": 13,
   "metadata": {},
   "outputs": [
    {
     "data": {
      "text/plain": [
       "Text(0.5, 0, '이동 인구수')"
      ]
     },
     "execution_count": 13,
     "metadata": {},
     "output_type": "execute_result"
    },
    {
     "data": {
      "image/png": "[encoded data removed]",
      "text/plain": [
       "<Figure size 720x360 with 1 Axes>"
      ]
     },
     "metadata": {},
     "output_type": "display_data"
    }
   ],
   "source": [
    "df_total.plot(kind= 'barh', color= 'cornflowerblue', width= 0.5, figsize= (10, 5))\n",
    "plt.title('서울 -> 타시도 인구 이동')\n",
    "plt.ylabel('전입지')\n",
    "plt.xlabel('이동 인구수')"
   ]
  },
  {
   "cell_type": "markdown",
   "metadata": {},
   "source": [
    "# 예제 4-18 2축 그래프 그리기 "
   ]
  },
  {
   "cell_type": "markdown",
   "metadata": {},
   "source": [
    "###  라이브러리 불러오기 "
   ]
  },
  {
   "cell_type": "code",
   "execution_count": 14,
   "metadata": {},
   "outputs": [],
   "source": [
    "import pandas as pd\n",
    "import matplotlib.pyplot as plt"
   ]
  },
  {
   "cell_type": "code",
   "execution_count": 15,
   "metadata": {},
   "outputs": [],
   "source": [
    "plt.style.use('ggplot') # 스타일 서식 지정\n",
    "plt.rcParams['axes.unicode_minus'] = False # 마이너스 부호 출력 설정"
   ]
  },
  {
   "cell_type": "markdown",
   "metadata": {},
   "source": [
    "### Excel 데이터를 데이터프레임으로 전환 "
   ]
  },
  {
   "cell_type": "code",
   "execution_count": 16,
   "metadata": {},
   "outputs": [],
   "source": [
    "df = pd.read_excel('./남북한발전전력량.xlsx', convert_float= True)\n",
    "df = df.loc[5:9]\n",
    "df.drop('전력량 (억㎾h)', axis='columns', inplace= True)\n",
    "df.set_index('발전 전력별', inplace= True)\n",
    "df = df.T"
   ]
  },
  {
   "cell_type": "markdown",
   "metadata": {},
   "source": [
    "### 증감률(변동률) 계산"
   ]
  },
  {
   "cell_type": "code",
   "execution_count": 17,
   "metadata": {},
   "outputs": [
    {
     "data": {
      "text/html": [
       "<div>\n",
       "<style scoped>\n",
       "    .dataframe tbody tr th:only-of-type {\n",
       "        vertical-align: middle;\n",
       "    }\n",
       "\n",
       "    .dataframe tbody tr th {\n",
       "        vertical-align: top;\n",
       "    }\n",
       "\n",
       "    .dataframe thead th {\n",
       "        text-align: right;\n",
       "    }\n",
       "</style>\n",
       "<table border=\"1\" class=\"dataframe\">\n",
       "  <thead>\n",
       "    <tr style=\"text-align: right;\">\n",
       "      <th>발전 전력별</th>\n",
       "      <th>총발전량</th>\n",
       "      <th>수력</th>\n",
       "      <th>화력</th>\n",
       "      <th>원자력</th>\n",
       "      <th>총발전량 - 1년</th>\n",
       "      <th>증감률</th>\n",
       "    </tr>\n",
       "  </thead>\n",
       "  <tbody>\n",
       "    <tr>\n",
       "      <th>1990</th>\n",
       "      <td>277</td>\n",
       "      <td>156</td>\n",
       "      <td>121</td>\n",
       "      <td>-</td>\n",
       "      <td>NaN</td>\n",
       "      <td>NaN</td>\n",
       "    </tr>\n",
       "    <tr>\n",
       "      <th>1991</th>\n",
       "      <td>263</td>\n",
       "      <td>150</td>\n",
       "      <td>113</td>\n",
       "      <td>-</td>\n",
       "      <td>277</td>\n",
       "      <td>-5.05415</td>\n",
       "    </tr>\n",
       "    <tr>\n",
       "      <th>1992</th>\n",
       "      <td>247</td>\n",
       "      <td>142</td>\n",
       "      <td>105</td>\n",
       "      <td>-</td>\n",
       "      <td>263</td>\n",
       "      <td>-6.08365</td>\n",
       "    </tr>\n",
       "    <tr>\n",
       "      <th>1993</th>\n",
       "      <td>221</td>\n",
       "      <td>133</td>\n",
       "      <td>88</td>\n",
       "      <td>-</td>\n",
       "      <td>247</td>\n",
       "      <td>-10.5263</td>\n",
       "    </tr>\n",
       "    <tr>\n",
       "      <th>1994</th>\n",
       "      <td>231</td>\n",
       "      <td>138</td>\n",
       "      <td>93</td>\n",
       "      <td>-</td>\n",
       "      <td>221</td>\n",
       "      <td>4.52489</td>\n",
       "    </tr>\n",
       "  </tbody>\n",
       "</table>\n",
       "</div>"
      ],
      "text/plain": [
       "발전 전력별 총발전량   수력   화력 원자력 총발전량 - 1년      증감률\n",
       "1990    277  156  121   -       NaN      NaN\n",
       "1991    263  150  113   -       277 -5.05415\n",
       "1992    247  142  105   -       263 -6.08365\n",
       "1993    221  133   88   -       247 -10.5263\n",
       "1994    231  138   93   -       221  4.52489"
      ]
     },
     "execution_count": 17,
     "metadata": {},
     "output_type": "execute_result"
    }
   ],
   "source": [
    "df = df.rename(columns= {'합계':'총발전량'})\n",
    "df['총발전량 - 1년'] = df['총발전량'].shift(1)\n",
    "df['증감률'] = ((df['총발전량']/df['총발전량 - 1년']) - 1) * 100\n",
    "df.head()"
   ]
  },
  {
   "cell_type": "markdown",
   "metadata": {},
   "source": [
    "shift() 메소드를 사용하여 '총발전량' 열의 데이터를 1행씩 뒤로 이동시킨다."
   ]
  },
  {
   "cell_type": "markdown",
   "metadata": {},
   "source": [
    "### 2축 그래프 그리기 "
   ]
  },
  {
   "cell_type": "code",
   "execution_count": 18,
   "metadata": {},
   "outputs": [
    {
     "data": {
      "text/plain": [
       "<matplotlib.legend.Legend at 0x7978a78>"
      ]
     },
     "execution_count": 18,
     "metadata": {},
     "output_type": "execute_result"
    },
    {
     "data": {
      "image/png": "[encoded data removed]",
      "text/plain": [
       "<Figure size 1440x720 with 2 Axes>"
      ]
     },
     "metadata": {},
     "output_type": "display_data"
    }
   ],
   "source": [
    "ax1 = df[['수력', '화력']].plot(kind= 'bar', figsize= (20, 10), width= 0.7,\n",
    "                           stacked= True)\n",
    "ax2 = ax1.twinx()\n",
    "ax2.plot(df.index, df.증감률, ls= '--', marker= 'o', markersize= 20,\n",
    "        color= 'red', label= '전년대비 증감률(%)')\n",
    "ax1.set_ylim(0, 500)\n",
    "ax2.set_ylim(-50, 50)\n",
    "ax1.set_xlabel('연도', size= 20)\n",
    "ax1.set_ylabel('발전량(억 kWh)')\n",
    "ax2.set_ylabel('전년 대비 증감률(%)')\n",
    "plt.title('북한 전력 발전량 (1990~201 6)', size= 30)\n",
    "ax1.legend(loc = 'upper left')"
   ]
  },
  {
   "cell_type": "markdown",
   "metadata": {},
   "source": [
    "stacked = True 옵션을 지정하여 '수력', '화력'열의 값을 아래 위로 쌓은 형태의 세로형 막대 그래프를 그린다.\n",
    "\n",
    "ax1 객체에 twinx() 메소드를 적용하여 ax1 객체의 쌍둥이 객체를 만들어 ax2에 저장.\n",
    "\n"
   ]
  },
  {
   "cell_type": "markdown",
   "metadata": {},
   "source": [
    "# 예제 4-19 히스토그램 "
   ]
  },
  {
   "cell_type": "markdown",
   "metadata": {},
   "source": [
    "### 라이브러리 불러오기 "
   ]
  },
  {
   "cell_type": "code",
   "execution_count": 19,
   "metadata": {},
   "outputs": [],
   "source": [
    "import pandas as pd\n",
    "import matplotlib.pyplot as plt"
   ]
  },
  {
   "cell_type": "code",
   "execution_count": 20,
   "metadata": {},
   "outputs": [],
   "source": [
    "plt.style.use('ggplot')"
   ]
  },
  {
   "cell_type": "markdown",
   "metadata": {},
   "source": [
    "### read_csv() 함수로 df 생성 "
   ]
  },
  {
   "cell_type": "code",
   "execution_count": 22,
   "metadata": {},
   "outputs": [
    {
     "data": {
      "text/html": [
       "<div>\n",
       "<style scoped>\n",
       "    .dataframe tbody tr th:only-of-type {\n",
       "        vertical-align: middle;\n",
       "    }\n",
       "\n",
       "    .dataframe tbody tr th {\n",
       "        vertical-align: top;\n",
       "    }\n",
       "\n",
       "    .dataframe thead th {\n",
       "        text-align: right;\n",
       "    }\n",
       "</style>\n",
       "<table border=\"1\" class=\"dataframe\">\n",
       "  <thead>\n",
       "    <tr style=\"text-align: right;\">\n",
       "      <th></th>\n",
       "      <th>0</th>\n",
       "      <th>1</th>\n",
       "      <th>2</th>\n",
       "      <th>3</th>\n",
       "      <th>4</th>\n",
       "      <th>5</th>\n",
       "      <th>6</th>\n",
       "      <th>7</th>\n",
       "      <th>8</th>\n",
       "    </tr>\n",
       "  </thead>\n",
       "  <tbody>\n",
       "    <tr>\n",
       "      <th>0</th>\n",
       "      <td>18.0</td>\n",
       "      <td>8</td>\n",
       "      <td>307.0</td>\n",
       "      <td>130.0</td>\n",
       "      <td>3504.0</td>\n",
       "      <td>12.0</td>\n",
       "      <td>70</td>\n",
       "      <td>1</td>\n",
       "      <td>chevrolet chevelle malibu</td>\n",
       "    </tr>\n",
       "    <tr>\n",
       "      <th>1</th>\n",
       "      <td>15.0</td>\n",
       "      <td>8</td>\n",
       "      <td>350.0</td>\n",
       "      <td>165.0</td>\n",
       "      <td>3693.0</td>\n",
       "      <td>11.5</td>\n",
       "      <td>70</td>\n",
       "      <td>1</td>\n",
       "      <td>buick skylark 320</td>\n",
       "    </tr>\n",
       "    <tr>\n",
       "      <th>2</th>\n",
       "      <td>18.0</td>\n",
       "      <td>8</td>\n",
       "      <td>318.0</td>\n",
       "      <td>150.0</td>\n",
       "      <td>3436.0</td>\n",
       "      <td>11.0</td>\n",
       "      <td>70</td>\n",
       "      <td>1</td>\n",
       "      <td>plymouth satellite</td>\n",
       "    </tr>\n",
       "    <tr>\n",
       "      <th>3</th>\n",
       "      <td>16.0</td>\n",
       "      <td>8</td>\n",
       "      <td>304.0</td>\n",
       "      <td>150.0</td>\n",
       "      <td>3433.0</td>\n",
       "      <td>12.0</td>\n",
       "      <td>70</td>\n",
       "      <td>1</td>\n",
       "      <td>amc rebel sst</td>\n",
       "    </tr>\n",
       "    <tr>\n",
       "      <th>4</th>\n",
       "      <td>17.0</td>\n",
       "      <td>8</td>\n",
       "      <td>302.0</td>\n",
       "      <td>140.0</td>\n",
       "      <td>3449.0</td>\n",
       "      <td>10.5</td>\n",
       "      <td>70</td>\n",
       "      <td>1</td>\n",
       "      <td>ford torino</td>\n",
       "    </tr>\n",
       "  </tbody>\n",
       "</table>\n",
       "</div>"
      ],
      "text/plain": [
       "      0  1      2      3       4     5   6  7                          8\n",
       "0  18.0  8  307.0  130.0  3504.0  12.0  70  1  chevrolet chevelle malibu\n",
       "1  15.0  8  350.0  165.0  3693.0  11.5  70  1          buick skylark 320\n",
       "2  18.0  8  318.0  150.0  3436.0  11.0  70  1         plymouth satellite\n",
       "3  16.0  8  304.0  150.0  3433.0  12.0  70  1              amc rebel sst\n",
       "4  17.0  8  302.0  140.0  3449.0  10.5  70  1                ford torino"
      ]
     },
     "execution_count": 22,
     "metadata": {},
     "output_type": "execute_result"
    }
   ],
   "source": [
    "df = pd.read_csv('./auto-mpg.csv', header= None)\n",
    "df.head()"
   ]
  },
  {
   "cell_type": "markdown",
   "metadata": {},
   "source": [
    "### 열 이름 지정 "
   ]
  },
  {
   "cell_type": "code",
   "execution_count": 27,
   "metadata": {},
   "outputs": [
    {
     "data": {
      "text/html": [
       "<div>\n",
       "<style scoped>\n",
       "    .dataframe tbody tr th:only-of-type {\n",
       "        vertical-align: middle;\n",
       "    }\n",
       "\n",
       "    .dataframe tbody tr th {\n",
       "        vertical-align: top;\n",
       "    }\n",
       "\n",
       "    .dataframe thead th {\n",
       "        text-align: right;\n",
       "    }\n",
       "</style>\n",
       "<table border=\"1\" class=\"dataframe\">\n",
       "  <thead>\n",
       "    <tr style=\"text-align: right;\">\n",
       "      <th></th>\n",
       "      <th>mpg</th>\n",
       "      <th>cylinders</th>\n",
       "      <th>displayment</th>\n",
       "      <th>horsepower</th>\n",
       "      <th>weight</th>\n",
       "      <th>acceleration</th>\n",
       "      <th>model year</th>\n",
       "      <th>origin</th>\n",
       "      <th>name</th>\n",
       "    </tr>\n",
       "  </thead>\n",
       "  <tbody>\n",
       "    <tr>\n",
       "      <th>0</th>\n",
       "      <td>18.0</td>\n",
       "      <td>8</td>\n",
       "      <td>307.0</td>\n",
       "      <td>130.0</td>\n",
       "      <td>3504.0</td>\n",
       "      <td>12.0</td>\n",
       "      <td>70</td>\n",
       "      <td>1</td>\n",
       "      <td>chevrolet chevelle malibu</td>\n",
       "    </tr>\n",
       "    <tr>\n",
       "      <th>1</th>\n",
       "      <td>15.0</td>\n",
       "      <td>8</td>\n",
       "      <td>350.0</td>\n",
       "      <td>165.0</td>\n",
       "      <td>3693.0</td>\n",
       "      <td>11.5</td>\n",
       "      <td>70</td>\n",
       "      <td>1</td>\n",
       "      <td>buick skylark 320</td>\n",
       "    </tr>\n",
       "    <tr>\n",
       "      <th>2</th>\n",
       "      <td>18.0</td>\n",
       "      <td>8</td>\n",
       "      <td>318.0</td>\n",
       "      <td>150.0</td>\n",
       "      <td>3436.0</td>\n",
       "      <td>11.0</td>\n",
       "      <td>70</td>\n",
       "      <td>1</td>\n",
       "      <td>plymouth satellite</td>\n",
       "    </tr>\n",
       "    <tr>\n",
       "      <th>3</th>\n",
       "      <td>16.0</td>\n",
       "      <td>8</td>\n",
       "      <td>304.0</td>\n",
       "      <td>150.0</td>\n",
       "      <td>3433.0</td>\n",
       "      <td>12.0</td>\n",
       "      <td>70</td>\n",
       "      <td>1</td>\n",
       "      <td>amc rebel sst</td>\n",
       "    </tr>\n",
       "    <tr>\n",
       "      <th>4</th>\n",
       "      <td>17.0</td>\n",
       "      <td>8</td>\n",
       "      <td>302.0</td>\n",
       "      <td>140.0</td>\n",
       "      <td>3449.0</td>\n",
       "      <td>10.5</td>\n",
       "      <td>70</td>\n",
       "      <td>1</td>\n",
       "      <td>ford torino</td>\n",
       "    </tr>\n",
       "  </tbody>\n",
       "</table>\n",
       "</div>"
      ],
      "text/plain": [
       "    mpg  cylinders  displayment horsepower   weight  acceleration  model year  \\\n",
       "0  18.0          8        307.0      130.0   3504.0          12.0          70   \n",
       "1  15.0          8        350.0      165.0   3693.0          11.5          70   \n",
       "2  18.0          8        318.0      150.0   3436.0          11.0          70   \n",
       "3  16.0          8        304.0      150.0   3433.0          12.0          70   \n",
       "4  17.0          8        302.0      140.0   3449.0          10.5          70   \n",
       "\n",
       "   origin                       name  \n",
       "0       1  chevrolet chevelle malibu  \n",
       "1       1          buick skylark 320  \n",
       "2       1         plymouth satellite  \n",
       "3       1              amc rebel sst  \n",
       "4       1                ford torino  "
      ]
     },
     "execution_count": 27,
     "metadata": {},
     "output_type": "execute_result"
    }
   ],
   "source": [
    "df.columns = ['mpg', 'cylinders', 'displayment', 'horsepower',' weight',\n",
    "              'acceleration', 'model year', 'origin', 'name']\n",
    "df.head()"
   ]
  },
  {
   "cell_type": "markdown",
   "metadata": {},
   "source": [
    "### 연비(mpg) 열에 대한 히스토그램 그리기 "
   ]
  },
  {
   "cell_type": "code",
   "execution_count": 31,
   "metadata": {
    "scrolled": true
   },
   "outputs": [
    {
     "data": {
      "text/plain": [
       "Text(0.5, 0, 'mpg')"
      ]
     },
     "execution_count": 31,
     "metadata": {},
     "output_type": "execute_result"
    },
    {
     "data": {
      "image/png": "[encoded data removed]",
      "text/plain": [
       "<Figure size 720x360 with 1 Axes>"
      ]
     },
     "metadata": {},
     "output_type": "display_data"
    }
   ],
   "source": [
    "df['mpg'].plot(kind= 'hist', bins= 10, color= 'coral', figsize= (10, 5))\n",
    "plt.title('Histogram')\n",
    "plt.xlabel('mpg')"
   ]
  },
  {
   "cell_type": "markdown",
   "metadata": {},
   "source": [
    "bins= 10 옵션을 지정하여 10개 구간으로 나눈다. \n",
    "\n",
    "실행 결과를 보면, 자동차 연비 값은 대부분 좌측으로 편향되어 있어서 연비가 낮은 구간에 집중되어 있는 경향을 보인다."
   ]
  },
  {
   "cell_type": "markdown",
   "metadata": {},
   "source": [
    "### 예제 4-20 산점도 "
   ]
  },
  {
   "cell_type": "markdown",
   "metadata": {},
   "source": [
    "### 라이브러리 불러오기 "
   ]
  },
  {
   "cell_type": "code",
   "execution_count": 32,
   "metadata": {},
   "outputs": [],
   "source": [
    "import pandas as pd\n",
    "import matplotlib.pyplot as plt"
   ]
  },
  {
   "cell_type": "code",
   "execution_count": 33,
   "metadata": {},
   "outputs": [],
   "source": [
    "plt.style.use('ggplot')"
   ]
  },
  {
   "cell_type": "markdown",
   "metadata": {},
   "source": [
    "### read_csv() 함수로 df 생성 "
   ]
  },
  {
   "cell_type": "code",
   "execution_count": 34,
   "metadata": {},
   "outputs": [],
   "source": [
    "df = pd.read_csv('./auto-mpg.csv', header= None)"
   ]
  },
  {
   "cell_type": "markdown",
   "metadata": {},
   "source": [
    "### 열 이름 지정 "
   ]
  },
  {
   "cell_type": "code",
   "execution_count": 35,
   "metadata": {},
   "outputs": [
    {
     "data": {
      "text/html": [
       "<div>\n",
       "<style scoped>\n",
       "    .dataframe tbody tr th:only-of-type {\n",
       "        vertical-align: middle;\n",
       "    }\n",
       "\n",
       "    .dataframe tbody tr th {\n",
       "        vertical-align: top;\n",
       "    }\n",
       "\n",
       "    .dataframe thead th {\n",
       "        text-align: right;\n",
       "    }\n",
       "</style>\n",
       "<table border=\"1\" class=\"dataframe\">\n",
       "  <thead>\n",
       "    <tr style=\"text-align: right;\">\n",
       "      <th></th>\n",
       "      <th>mpg</th>\n",
       "      <th>cylinder</th>\n",
       "      <th>displacement</th>\n",
       "      <th>horsepower</th>\n",
       "      <th>weight</th>\n",
       "      <th>acceleration</th>\n",
       "      <th>model year</th>\n",
       "      <th>origin</th>\n",
       "      <th>name</th>\n",
       "    </tr>\n",
       "  </thead>\n",
       "  <tbody>\n",
       "    <tr>\n",
       "      <th>0</th>\n",
       "      <td>18.0</td>\n",
       "      <td>8</td>\n",
       "      <td>307.0</td>\n",
       "      <td>130.0</td>\n",
       "      <td>3504.0</td>\n",
       "      <td>12.0</td>\n",
       "      <td>70</td>\n",
       "      <td>1</td>\n",
       "      <td>chevrolet chevelle malibu</td>\n",
       "    </tr>\n",
       "    <tr>\n",
       "      <th>1</th>\n",
       "      <td>15.0</td>\n",
       "      <td>8</td>\n",
       "      <td>350.0</td>\n",
       "      <td>165.0</td>\n",
       "      <td>3693.0</td>\n",
       "      <td>11.5</td>\n",
       "      <td>70</td>\n",
       "      <td>1</td>\n",
       "      <td>buick skylark 320</td>\n",
       "    </tr>\n",
       "    <tr>\n",
       "      <th>2</th>\n",
       "      <td>18.0</td>\n",
       "      <td>8</td>\n",
       "      <td>318.0</td>\n",
       "      <td>150.0</td>\n",
       "      <td>3436.0</td>\n",
       "      <td>11.0</td>\n",
       "      <td>70</td>\n",
       "      <td>1</td>\n",
       "      <td>plymouth satellite</td>\n",
       "    </tr>\n",
       "    <tr>\n",
       "      <th>3</th>\n",
       "      <td>16.0</td>\n",
       "      <td>8</td>\n",
       "      <td>304.0</td>\n",
       "      <td>150.0</td>\n",
       "      <td>3433.0</td>\n",
       "      <td>12.0</td>\n",
       "      <td>70</td>\n",
       "      <td>1</td>\n",
       "      <td>amc rebel sst</td>\n",
       "    </tr>\n",
       "    <tr>\n",
       "      <th>4</th>\n",
       "      <td>17.0</td>\n",
       "      <td>8</td>\n",
       "      <td>302.0</td>\n",
       "      <td>140.0</td>\n",
       "      <td>3449.0</td>\n",
       "      <td>10.5</td>\n",
       "      <td>70</td>\n",
       "      <td>1</td>\n",
       "      <td>ford torino</td>\n",
       "    </tr>\n",
       "  </tbody>\n",
       "</table>\n",
       "</div>"
      ],
      "text/plain": [
       "    mpg  cylinder  displacement horsepower  weight  acceleration  model year  \\\n",
       "0  18.0         8         307.0      130.0  3504.0          12.0          70   \n",
       "1  15.0         8         350.0      165.0  3693.0          11.5          70   \n",
       "2  18.0         8         318.0      150.0  3436.0          11.0          70   \n",
       "3  16.0         8         304.0      150.0  3433.0          12.0          70   \n",
       "4  17.0         8         302.0      140.0  3449.0          10.5          70   \n",
       "\n",
       "   origin                       name  \n",
       "0       1  chevrolet chevelle malibu  \n",
       "1       1          buick skylark 320  \n",
       "2       1         plymouth satellite  \n",
       "3       1              amc rebel sst  \n",
       "4       1                ford torino  "
      ]
     },
     "execution_count": 35,
     "metadata": {},
     "output_type": "execute_result"
    }
   ],
   "source": [
    "df.columns = ['mpg', 'cylinder', 'displacement', 'horsepower', 'weight',\n",
    "             'acceleration', 'model year', 'origin', 'name']\n",
    "df.head()"
   ]
  },
  {
   "cell_type": "markdown",
   "metadata": {},
   "source": [
    "### 연비(mpg)와 차중(weight) 열에 대한 산점도 그리기 "
   ]
  },
  {
   "cell_type": "code",
   "execution_count": 37,
   "metadata": {},
   "outputs": [
    {
     "data": {
      "text/plain": [
       "Text(0.5, 1.0, 'Scatter Plot - mpg vs weight')"
      ]
     },
     "execution_count": 37,
     "metadata": {},
     "output_type": "execute_result"
    },
    {
     "data": {
      "image/png": "[encoded data removed]",
      "text/plain": [
       "<Figure size 720x360 with 1 Axes>"
      ]
     },
     "metadata": {},
     "output_type": "display_data"
    }
   ],
   "source": [
    "df.plot(kind= 'scatter', x= 'weight', y= 'mpg', c= 'coral', s=10, figsize= (10, 5))\n",
    "plt.title('Scatter Plot - mpg vs weight')"
   ]
  }
 ],
 "metadata": {
  "kernelspec": {
   "display_name": "Python 3",
   "language": "python",
   "name": "python3"
  },
  "language_info": {
   "codemirror_mode": {
    "name": "ipython",
    "version": 3
   },
   "file_extension": ".py",
   "mimetype": "text/x-python",
   "name": "python",
   "nbconvert_exporter": "python",
   "pygments_lexer": "ipython3",
   "version": "3.8.3"
  },
  "toc": {
   "base_numbering": 1,
   "nav_menu": {},
   "number_sections": false,
   "sideBar": true,
   "skip_h1_title": false,
   "title_cell": "Table of Contents",
   "title_sidebar": "Contents",
   "toc_cell": false,
   "toc_position": {},
   "toc_section_display": true,
   "toc_window_display": false
  },
  "varInspector": {
   "cols": {
    "lenName": 16,
    "lenType": 16,
    "lenVar": 40
   },
   "kernels_config": {
    "python": {
     "delete_cmd_postfix": "",
     "delete_cmd_prefix": "del ",
     "library": "var_list.py",
     "varRefreshCmd": "print(var_dic_list())"
    },
    "r": {
     "delete_cmd_postfix": ") ",
     "delete_cmd_prefix": "rm(",
     "library": "var_list.r",
     "varRefreshCmd": "cat(var_dic_list()) "
    }
   },
   "types_to_exclude": [
    "module",
    "function",
    "builtin_function_or_method",
    "instance",
    "_Feature"
   ],
   "window_display": false
  }
 },
 "nbformat": 4,
 "nbformat_minor": 4
}
